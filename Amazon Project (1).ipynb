{
 "cells": [
  {
   "cell_type": "code",
   "execution_count": 0,
   "metadata": {
    "application/vnd.databricks.v1+cell": {
     "cellMetadata": {
      "byteLimit": 2048000,
      "rowLimit": 10000
     },
     "inputWidgets": {},
     "nuid": "485590bb-ea74-4c9c-8ed2-89467fecffe3",
     "showTitle": false,
     "tableResultSettingsMap": {},
     "title": ""
    }
   },
   "outputs": [],
   "source": [
    "\n",
    "#imports\n",
    "from pyspark.sql import SparkSession\n",
    "from pyspark.sql.functions import expr\n",
    "from pyspark.sql.functions import col,isnan,when,count\n",
    "from pyspark.sql.functions import *"
   ]
  },
  {
   "cell_type": "code",
   "execution_count": 0,
   "metadata": {
    "application/vnd.databricks.v1+cell": {
     "cellMetadata": {
      "byteLimit": 2048000,
      "rowLimit": 10000
     },
     "inputWidgets": {},
     "nuid": "a22bb983-7b94-4f48-864a-ddc1f13fd19b",
     "showTitle": false,
     "tableResultSettingsMap": {},
     "title": ""
    }
   },
   "outputs": [],
   "source": [
    "#loading the csv file\n",
    "file_path = \"/FileStore/amazon.csv\"\n",
    "\n",
    "\n"
   ]
  },
  {
   "cell_type": "code",
   "execution_count": 0,
   "metadata": {
    "application/vnd.databricks.v1+cell": {
     "cellMetadata": {
      "byteLimit": 2048000,
      "rowLimit": 10000
     },
     "inputWidgets": {},
     "nuid": "32d88742-fe0a-4661-85cf-f26f43bbf8ab",
     "showTitle": false,
     "tableResultSettingsMap": {},
     "title": ""
    }
   },
   "outputs": [
    {
     "output_type": "display_data",
     "data": {
      "text/html": [
       "<style scoped>\n",
       "  .table-result-container {\n",
       "    max-height: 300px;\n",
       "    overflow: auto;\n",
       "  }\n",
       "  table, th, td {\n",
       "    border: 1px solid black;\n",
       "    border-collapse: collapse;\n",
       "  }\n",
       "  th, td {\n",
       "    padding: 5px;\n",
       "  }\n",
       "  th {\n",
       "    text-align: left;\n",
       "  }\n",
       "</style><div class='table-result-container'><table class='table-result'><thead style='background-color: white'><tr><th>product_id</th><th>product_name</th><th>category</th><th>discounted_price</th><th>actual_price</th><th>discount_percentage</th><th>rating</th><th>rating_count</th><th>about_product</th><th>user_id</th><th>user_name</th><th>review_id</th><th>review_title</th><th>review_content</th><th>img_link</th><th>product_link</th></tr></thead><tbody><tr><td>B07JW9H4J1</td><td>Wayona Nylon Braided USB to Lightning Fast Charging and Data Sync Cable Compatible for iPhone 13, 12,11, X, 8, 7, 6, 5, iPad Air, Pro, Mini (3 FT Pack of 1, Grey)</td><td>Computers&Accessories|Accessories&Peripherals|Cables&Accessories|Cables|USBCables</td><td>₹399</td><td>₹1,099</td><td>64%</td><td>4.2</td><td>24,269</td><td>High Compatibility : Compatible With iPhone 12, 11, X/XsMax/Xr ,iPhone 8/8 Plus,iPhone 7/7 Plus,iPhone 6s/6s Plus,iPhone 6/6 Plus,iPhone 5/5s/5c/se,iPad Pro,iPad Air 1/2,iPad mini 1/2/3,iPod nano7,iPod touch and more apple devices.|Fast Charge&Data Sync : It can charge and sync simultaneously at a rapid speed, Compatible with any charging adaptor, multi-port charging station or power bank.|Durability : Durable nylon braided design with premium aluminum housing and toughened nylon fiber wound tightly around the cord lending it superior durability and adding a bit to its flexibility.|High Security Level : It is designed to fully protect your device from damaging excessive current.Copper core thick+Multilayer shielding, Anti-interference, Protective circuit equipment.|WARRANTY: 12 months warranty and friendly customer services, ensures the long-time enjoyment of your purchase. If you meet any question or problem, please don't hesitate to contact us.</td><td>AG3D6O4STAQKAY2UVGEUV46KN35Q,AHMY5CWJMMK5BJRBBSNLYT3ONILA,AHCTC6ULH4XB6YHDY6PCH2R772LQ,AGYHHIERNXKA6P5T7CZLXKVPT7IQ,AG4OGOFWXJZTQ2HKYIOCOY3KXF2Q,AENGU523SXMOS7JPDTW52PNNVWGQ,AEQJHCVTNINBS4FKTBGQRQTGTE5Q,AFC3FFC5PKFF5PMA52S3VCHOZ5FQ</td><td>Manav,Adarsh gupta,Sundeep,S.Sayeed Ahmed,jaspreet singh,Khaja moin,Anand,S.ARUMUGAM</td><td>R3HXWT0LRP0NMF,R2AJM3LFTLZHFO,R6AQJGUP6P86,R1KD19VHEDV0OR,R3C02RMYQMK6FC,R39GQRVBUZBWGY,R2K9EDOE15QIRJ,R3OI7YT648TL8I</td><td>Satisfied,Charging is really fast,Value for money,Product review,Good quality,Good product,Good Product,As of now seems good</td><td>Looks durable Charging is fine tooNo complains,Charging is really fast, good product.,Till now satisfied with the quality.,This is a good product . The charging speed is slower than the original iPhone cable,Good quality, would recommend,https://m.media-amazon.com/images/W/WEBP_402378-T1/images/I/81---F1ZgHL._SY88.jpg,Product had worked well till date and was having no issue.Cable is also sturdy enough...Have asked for replacement and company is doing the same...,Value for money</td><td>https://m.media-amazon.com/images/W/WEBP_402378-T1/images/I/51UsScvHQNL._SX300_SY300_QL70_FMwebp_.jpg</td><td>https://www.amazon.in/Wayona-Braided-WN3LG1-Syncing-Charging/dp/B07JW9H4J1/ref=sr_1_1?qid=1672909124&s=electronics&sr=1-1</td></tr><tr><td>B098NS6PVG</td><td>Ambrane Unbreakable 60W / 3A Fast Charging 1.5m Braided Type C Cable for Smartphones, Tablets, Laptops & other Type C devices, PD Technology, 480Mbps Data Sync, Quick Charge 3.0 (RCT15A, Black)</td><td>Computers&Accessories|Accessories&Peripherals|Cables&Accessories|Cables|USBCables</td><td>₹199</td><td>₹349</td><td>43%</td><td>4.0</td><td>43,994</td><td>Compatible with all Type C enabled devices, be it an android smartphone (Mi, Samsung, Oppo, Vivo, Realme, OnePlus, etc), tablet, laptop (Macbook, Chromebook, etc)|Supports Quick Charging (2.0/3.0)|Unbreakable – Made of special braided outer with rugged interior bindings, it is ultra-durable cable that won’t be affected by daily rough usage|Ideal Length – It has ideal length of 1.5 meters which is neither too short like your typical 1meter cable or too long like a 2meters cable|Supports maximum 3A fast charging and 480 Mbps data transfer speed|6 months manufacturer warranty from the date of purchase</td><td>AECPFYFQVRUWC3KGNLJIOREFP5LQ,AGYYVPDD7YG7FYNBXNGXZJT525AQ,AHONIZU3ICIEHQIGQ6R2VFRSBXOQ,AFPHD2CRPDZMWMBL7WXRSVYWS5JA,AEZ346GX3HJ4O4XNRPHCNHXQURMQ,AEPSWFPNECKO34PUC7I56ITGXR6Q,AHWVEHR5DYLVFTO2KF3IZATFQSWQ,AH4QT33M55677I7ISQOAKEQWACYQ</td><td>ArdKn,Nirbhay kumar,Sagar Viswanathan,Asp,Placeholder,BharanI,sonia,Niam</td><td>RGIQEG07R9HS2,R1SMWZQ86XIN8U,R2J3Y1WL29GWDE,RYGGS0M09S3KY,R17KQRUTAN5DKS,R3AAQGS6HP2QUK,R1HDNOG6TO2CCA,R3PHKXYA5AFEOU</td><td>A Good Braided Cable for Your Type C Device,Good quality product from ambrane,Super cable,As,Good quality,Good product,its good,Good quality for the price but one issue with my unit</td><td>I ordered this cable to connect my phone to Android Auto of car. The cable is really strong and the connection ports are really well made. I already has a Micro USB cable from Ambrane and it's still in good shape. I connected my phone to the car using the cable and it got connected well and no issues. I also connected it to the charging port and yes it has Fast Charging support.,It quality is good at this price and the main thing is that i didn't ever thought that this cable will be so long it's good one and charging power is too good and also supports fast charging,Value for money, with extra length👍,Good, working fine,Product quality is good,Good,very good,Bought for my daughter's old phone.Brand new cable it was not charging, I already repacked and requested for replacement.I checked again, and there was some green colour paste/fungus inside the micro USB connector. I cleaned with an alcoholic and starts working again.Checked the ampere of charging speed got around 1400ma-1500ma - not bad, came with braided 1.5m long cable, pretty impressive for the price.Can't blame the manufacturer.But quality issues by the distributor, they might have stored in very humid place.</td><td>https://m.media-amazon.com/images/W/WEBP_402378-T2/images/I/31zOsqQOAOL._SY445_SX342_QL70_FMwebp_.jpg</td><td>https://www.amazon.in/Ambrane-Unbreakable-Charging-Braided-Cable/dp/B098NS6PVG/ref=sr_1_2?qid=1672909124&s=electronics&sr=1-2</td></tr><tr><td>B096MSW6CT</td><td>Sounce Fast Phone Charging Cable & Data Sync USB Cable Compatible for iPhone 13, 12,11, X, 8, 7, 6, 5, iPad Air, Pro, Mini & iOS Devices</td><td>Computers&Accessories|Accessories&Peripherals|Cables&Accessories|Cables|USBCables</td><td>₹199</td><td>₹1,899</td><td>90%</td><td>3.9</td><td>7,928</td><td>【 Fast Charger& Data Sync】-With built-in safety proctections and four-core copper wires promote maximum signal quality and strength and enhance charging & data transfer speed with up to 480 mb/s transferring speed.|【 Compatibility】-Compatible with iPhone 13, 12,11, X, 8, 7, 6, 5, iPad Air, Pro, Mini & iOS devices.|【 Sturdy & Durable】-The jacket and enforced connector made of TPE and premium copper, are resistant to repeatedly bending and coiling.|【 Ultra High Quality】: According to the experimental results, the fishbone design can accept at least 20,000 bending and insertion tests for extra protection and durability. Upgraded 3D aluminum connector and exclusive laser welding technology, which to ensure the metal part won't break and also have a tighter connection which fits well even with a protective case on and will never loose connection.|【 Good After Sales Service】-Our friendly and reliable customer service will respond to you within 24 hours ! you can purchase with confidence,and every sale includes a 365-day worry-free Service to prove the importance we set on quality.</td><td>AGU3BBQ2V2DDAMOAKGFAWDDQ6QHA,AESFLDV2PT363T2AQLWQOWZ4N3OA,AHTPQRIMGUD4BYR5YIHBH3CCGEFQ,AEUVWXYP5LT7PZLLZENEO2NODPBQ,AHC7MPW55DOO6WNCOQVA2VHOD26A,AFDI6FRPFBTNBG7BAEB7JDJSMKDQ,AFQKCEEEKXCOHTDG4WUN3XPPHJQQ,AHKUUFNMBZIDLSSPA4FEHIO2EC7Q</td><td>Kunal,Himanshu,viswanath,sai niharka,saqib malik,Aashiq,Ramu Challa,Sanjay gupta</td><td>R3J3EQQ9TZI5ZJ,R3E7WBGK7ID0KV,RWU79XKQ6I1QF,R25X4TBMPY91LX,R27OK7G99VK0TR,R207CYDCHJJTCJ,R3PCU8XMU173BT,R1IMONDOWRNU5V</td><td>Good speed for earlier versions,Good Product,Working good,Good for the price,Good,Worth for money,Working nice,it's a really nice product</td><td>Not quite durable and sturdy,https://m.media-amazon.com/images/W/WEBP_402378-T1/images/I/71rIggrbUCL._SY88.jpg,Working good,https://m.media-amazon.com/images/W/WEBP_402378-T1/images/I/61bKp9YO6wL._SY88.jpg,Product,Very nice product,Working well,It's a really nice product</td><td>https://m.media-amazon.com/images/W/WEBP_402378-T1/images/I/31IvNJZnmdL._SY445_SX342_QL70_FMwebp_.jpg</td><td>https://www.amazon.in/Sounce-iPhone-Charging-Compatible-Devices/dp/B096MSW6CT/ref=sr_1_3?qid=1672909124&s=electronics&sr=1-3</td></tr></tbody></table></div>"
      ]
     },
     "metadata": {
      "application/vnd.databricks.v1+output": {
       "addedWidgets": {},
       "aggData": [],
       "aggError": "",
       "aggOverflow": false,
       "aggSchema": [],
       "aggSeriesLimitReached": false,
       "aggType": "",
       "arguments": {},
       "columnCustomDisplayInfos": {},
       "data": [
        [
         "B07JW9H4J1",
         "Wayona Nylon Braided USB to Lightning Fast Charging and Data Sync Cable Compatible for iPhone 13, 12,11, X, 8, 7, 6, 5, iPad Air, Pro, Mini (3 FT Pack of 1, Grey)",
         "Computers&Accessories|Accessories&Peripherals|Cables&Accessories|Cables|USBCables",
         "₹399",
         "₹1,099",
         "64%",
         "4.2",
         "24,269",
         "High Compatibility : Compatible With iPhone 12, 11, X/XsMax/Xr ,iPhone 8/8 Plus,iPhone 7/7 Plus,iPhone 6s/6s Plus,iPhone 6/6 Plus,iPhone 5/5s/5c/se,iPad Pro,iPad Air 1/2,iPad mini 1/2/3,iPod nano7,iPod touch and more apple devices.|Fast Charge&Data Sync : It can charge and sync simultaneously at a rapid speed, Compatible with any charging adaptor, multi-port charging station or power bank.|Durability : Durable nylon braided design with premium aluminum housing and toughened nylon fiber wound tightly around the cord lending it superior durability and adding a bit to its flexibility.|High Security Level : It is designed to fully protect your device from damaging excessive current.Copper core thick+Multilayer shielding, Anti-interference, Protective circuit equipment.|WARRANTY: 12 months warranty and friendly customer services, ensures the long-time enjoyment of your purchase. If you meet any question or problem, please don't hesitate to contact us.",
         "AG3D6O4STAQKAY2UVGEUV46KN35Q,AHMY5CWJMMK5BJRBBSNLYT3ONILA,AHCTC6ULH4XB6YHDY6PCH2R772LQ,AGYHHIERNXKA6P5T7CZLXKVPT7IQ,AG4OGOFWXJZTQ2HKYIOCOY3KXF2Q,AENGU523SXMOS7JPDTW52PNNVWGQ,AEQJHCVTNINBS4FKTBGQRQTGTE5Q,AFC3FFC5PKFF5PMA52S3VCHOZ5FQ",
         "Manav,Adarsh gupta,Sundeep,S.Sayeed Ahmed,jaspreet singh,Khaja moin,Anand,S.ARUMUGAM",
         "R3HXWT0LRP0NMF,R2AJM3LFTLZHFO,R6AQJGUP6P86,R1KD19VHEDV0OR,R3C02RMYQMK6FC,R39GQRVBUZBWGY,R2K9EDOE15QIRJ,R3OI7YT648TL8I",
         "Satisfied,Charging is really fast,Value for money,Product review,Good quality,Good product,Good Product,As of now seems good",
         "Looks durable Charging is fine tooNo complains,Charging is really fast, good product.,Till now satisfied with the quality.,This is a good product . The charging speed is slower than the original iPhone cable,Good quality, would recommend,https://m.media-amazon.com/images/W/WEBP_402378-T1/images/I/81---F1ZgHL._SY88.jpg,Product had worked well till date and was having no issue.Cable is also sturdy enough...Have asked for replacement and company is doing the same...,Value for money",
         "https://m.media-amazon.com/images/W/WEBP_402378-T1/images/I/51UsScvHQNL._SX300_SY300_QL70_FMwebp_.jpg",
         "https://www.amazon.in/Wayona-Braided-WN3LG1-Syncing-Charging/dp/B07JW9H4J1/ref=sr_1_1?qid=1672909124&s=electronics&sr=1-1"
        ],
        [
         "B098NS6PVG",
         "Ambrane Unbreakable 60W / 3A Fast Charging 1.5m Braided Type C Cable for Smartphones, Tablets, Laptops & other Type C devices, PD Technology, 480Mbps Data Sync, Quick Charge 3.0 (RCT15A, Black)",
         "Computers&Accessories|Accessories&Peripherals|Cables&Accessories|Cables|USBCables",
         "₹199",
         "₹349",
         "43%",
         "4.0",
         "43,994",
         "Compatible with all Type C enabled devices, be it an android smartphone (Mi, Samsung, Oppo, Vivo, Realme, OnePlus, etc), tablet, laptop (Macbook, Chromebook, etc)|Supports Quick Charging (2.0/3.0)|Unbreakable – Made of special braided outer with rugged interior bindings, it is ultra-durable cable that won’t be affected by daily rough usage|Ideal Length – It has ideal length of 1.5 meters which is neither too short like your typical 1meter cable or too long like a 2meters cable|Supports maximum 3A fast charging and 480 Mbps data transfer speed|6 months manufacturer warranty from the date of purchase",
         "AECPFYFQVRUWC3KGNLJIOREFP5LQ,AGYYVPDD7YG7FYNBXNGXZJT525AQ,AHONIZU3ICIEHQIGQ6R2VFRSBXOQ,AFPHD2CRPDZMWMBL7WXRSVYWS5JA,AEZ346GX3HJ4O4XNRPHCNHXQURMQ,AEPSWFPNECKO34PUC7I56ITGXR6Q,AHWVEHR5DYLVFTO2KF3IZATFQSWQ,AH4QT33M55677I7ISQOAKEQWACYQ",
         "ArdKn,Nirbhay kumar,Sagar Viswanathan,Asp,Placeholder,BharanI,sonia,Niam",
         "RGIQEG07R9HS2,R1SMWZQ86XIN8U,R2J3Y1WL29GWDE,RYGGS0M09S3KY,R17KQRUTAN5DKS,R3AAQGS6HP2QUK,R1HDNOG6TO2CCA,R3PHKXYA5AFEOU",
         "A Good Braided Cable for Your Type C Device,Good quality product from ambrane,Super cable,As,Good quality,Good product,its good,Good quality for the price but one issue with my unit",
         "I ordered this cable to connect my phone to Android Auto of car. The cable is really strong and the connection ports are really well made. I already has a Micro USB cable from Ambrane and it's still in good shape. I connected my phone to the car using the cable and it got connected well and no issues. I also connected it to the charging port and yes it has Fast Charging support.,It quality is good at this price and the main thing is that i didn't ever thought that this cable will be so long it's good one and charging power is too good and also supports fast charging,Value for money, with extra length👍,Good, working fine,Product quality is good,Good,very good,Bought for my daughter's old phone.Brand new cable it was not charging, I already repacked and requested for replacement.I checked again, and there was some green colour paste/fungus inside the micro USB connector. I cleaned with an alcoholic and starts working again.Checked the ampere of charging speed got around 1400ma-1500ma - not bad, came with braided 1.5m long cable, pretty impressive for the price.Can't blame the manufacturer.But quality issues by the distributor, they might have stored in very humid place.",
         "https://m.media-amazon.com/images/W/WEBP_402378-T2/images/I/31zOsqQOAOL._SY445_SX342_QL70_FMwebp_.jpg",
         "https://www.amazon.in/Ambrane-Unbreakable-Charging-Braided-Cable/dp/B098NS6PVG/ref=sr_1_2?qid=1672909124&s=electronics&sr=1-2"
        ],
        [
         "B096MSW6CT",
         "Sounce Fast Phone Charging Cable & Data Sync USB Cable Compatible for iPhone 13, 12,11, X, 8, 7, 6, 5, iPad Air, Pro, Mini & iOS Devices",
         "Computers&Accessories|Accessories&Peripherals|Cables&Accessories|Cables|USBCables",
         "₹199",
         "₹1,899",
         "90%",
         "3.9",
         "7,928",
         "【 Fast Charger& Data Sync】-With built-in safety proctections and four-core copper wires promote maximum signal quality and strength and enhance charging & data transfer speed with up to 480 mb/s transferring speed.|【 Compatibility】-Compatible with iPhone 13, 12,11, X, 8, 7, 6, 5, iPad Air, Pro, Mini & iOS devices.|【 Sturdy & Durable】-The jacket and enforced connector made of TPE and premium copper, are resistant to repeatedly bending and coiling.|【 Ultra High Quality】: According to the experimental results, the fishbone design can accept at least 20,000 bending and insertion tests for extra protection and durability. Upgraded 3D aluminum connector and exclusive laser welding technology, which to ensure the metal part won't break and also have a tighter connection which fits well even with a protective case on and will never loose connection.|【 Good After Sales Service】-Our friendly and reliable customer service will respond to you within 24 hours ! you can purchase with confidence,and every sale includes a 365-day worry-free Service to prove the importance we set on quality.",
         "AGU3BBQ2V2DDAMOAKGFAWDDQ6QHA,AESFLDV2PT363T2AQLWQOWZ4N3OA,AHTPQRIMGUD4BYR5YIHBH3CCGEFQ,AEUVWXYP5LT7PZLLZENEO2NODPBQ,AHC7MPW55DOO6WNCOQVA2VHOD26A,AFDI6FRPFBTNBG7BAEB7JDJSMKDQ,AFQKCEEEKXCOHTDG4WUN3XPPHJQQ,AHKUUFNMBZIDLSSPA4FEHIO2EC7Q",
         "Kunal,Himanshu,viswanath,sai niharka,saqib malik,Aashiq,Ramu Challa,Sanjay gupta",
         "R3J3EQQ9TZI5ZJ,R3E7WBGK7ID0KV,RWU79XKQ6I1QF,R25X4TBMPY91LX,R27OK7G99VK0TR,R207CYDCHJJTCJ,R3PCU8XMU173BT,R1IMONDOWRNU5V",
         "Good speed for earlier versions,Good Product,Working good,Good for the price,Good,Worth for money,Working nice,it's a really nice product",
         "Not quite durable and sturdy,https://m.media-amazon.com/images/W/WEBP_402378-T1/images/I/71rIggrbUCL._SY88.jpg,Working good,https://m.media-amazon.com/images/W/WEBP_402378-T1/images/I/61bKp9YO6wL._SY88.jpg,Product,Very nice product,Working well,It's a really nice product",
         "https://m.media-amazon.com/images/W/WEBP_402378-T1/images/I/31IvNJZnmdL._SY445_SX342_QL70_FMwebp_.jpg",
         "https://www.amazon.in/Sounce-iPhone-Charging-Compatible-Devices/dp/B096MSW6CT/ref=sr_1_3?qid=1672909124&s=electronics&sr=1-3"
        ]
       ],
       "datasetInfos": [],
       "dbfsResultPath": null,
       "isJsonSchema": true,
       "metadata": {},
       "overflow": false,
       "plotOptions": {
        "customPlotOptions": {},
        "displayType": "table",
        "pivotAggregation": null,
        "pivotColumns": null,
        "xColumns": null,
        "yColumns": null
       },
       "removedWidgets": [],
       "schema": [
        {
         "metadata": "{}",
         "name": "product_id",
         "type": "\"string\""
        },
        {
         "metadata": "{}",
         "name": "product_name",
         "type": "\"string\""
        },
        {
         "metadata": "{}",
         "name": "category",
         "type": "\"string\""
        },
        {
         "metadata": "{}",
         "name": "discounted_price",
         "type": "\"string\""
        },
        {
         "metadata": "{}",
         "name": "actual_price",
         "type": "\"string\""
        },
        {
         "metadata": "{}",
         "name": "discount_percentage",
         "type": "\"string\""
        },
        {
         "metadata": "{}",
         "name": "rating",
         "type": "\"string\""
        },
        {
         "metadata": "{}",
         "name": "rating_count",
         "type": "\"string\""
        },
        {
         "metadata": "{}",
         "name": "about_product",
         "type": "\"string\""
        },
        {
         "metadata": "{}",
         "name": "user_id",
         "type": "\"string\""
        },
        {
         "metadata": "{}",
         "name": "user_name",
         "type": "\"string\""
        },
        {
         "metadata": "{}",
         "name": "review_id",
         "type": "\"string\""
        },
        {
         "metadata": "{}",
         "name": "review_title",
         "type": "\"string\""
        },
        {
         "metadata": "{}",
         "name": "review_content",
         "type": "\"string\""
        },
        {
         "metadata": "{}",
         "name": "img_link",
         "type": "\"string\""
        },
        {
         "metadata": "{}",
         "name": "product_link",
         "type": "\"string\""
        }
       ],
       "type": "table"
      }
     },
     "output_type": "display_data"
    }
   ],
   "source": [
    "#reading the first file\n",
    "df = spark.read.csv(file_path, header=True,inferSchema = True)\n",
    "df.limit(3).display()\n"
   ]
  },
  {
   "cell_type": "code",
   "execution_count": 0,
   "metadata": {
    "application/vnd.databricks.v1+cell": {
     "cellMetadata": {
      "byteLimit": 2048000,
      "rowLimit": 10000
     },
     "inputWidgets": {},
     "nuid": "9043abe2-45a8-447f-9758-3e179ddbfa35",
     "showTitle": false,
     "tableResultSettingsMap": {},
     "title": ""
    }
   },
   "outputs": [
    {
     "output_type": "stream",
     "name": "stdout",
     "output_type": "stream",
     "text": [
      "root\n |-- product_id: string (nullable = true)\n |-- product_name: string (nullable = true)\n |-- category: string (nullable = true)\n |-- discounted_price: string (nullable = true)\n |-- actual_price: string (nullable = true)\n |-- discount_percentage: string (nullable = true)\n |-- rating: string (nullable = true)\n |-- rating_count: string (nullable = true)\n |-- about_product: string (nullable = true)\n |-- user_id: string (nullable = true)\n |-- user_name: string (nullable = true)\n |-- review_id: string (nullable = true)\n |-- review_title: string (nullable = true)\n |-- review_content: string (nullable = true)\n |-- img_link: string (nullable = true)\n |-- product_link: string (nullable = true)\n\n"
     ]
    }
   ],
   "source": [
    "#printing schema\n",
    "df.printSchema()"
   ]
  },
  {
   "cell_type": "code",
   "execution_count": 0,
   "metadata": {
    "application/vnd.databricks.v1+cell": {
     "cellMetadata": {
      "byteLimit": 2048000,
      "rowLimit": 10000
     },
     "inputWidgets": {},
     "nuid": "156753b9-6e93-4e7c-8f91-6e30c9be30ba",
     "showTitle": false,
     "tableResultSettingsMap": {},
     "title": ""
    }
   },
   "outputs": [
    {
     "output_type": "stream",
     "name": "stdout",
     "output_type": "stream",
     "text": [
      "87\n"
     ]
    }
   ],
   "source": [
    "# Identify duplicates\n",
    "duplicate_count = df.groupBy(\"product_id\",\"user_id\").count().filter(col(\"count\") > 1).select(\"product_id\", \"user_id\").count()\n",
    "print(duplicates_count)\n",
    "\n",
    "\n",
    "\n"
   ]
  },
  {
   "cell_type": "code",
   "execution_count": 0,
   "metadata": {
    "application/vnd.databricks.v1+cell": {
     "cellMetadata": {
      "byteLimit": 2048000,
      "rowLimit": 10000
     },
     "inputWidgets": {},
     "nuid": "c272abcb-0063-44a7-a9d0-b306ed4a75bf",
     "showTitle": false,
     "tableResultSettingsMap": {},
     "title": ""
    }
   },
   "outputs": [
    {
     "output_type": "display_data",
     "data": {
      "text/html": [
       "<style scoped>\n",
       "  .table-result-container {\n",
       "    max-height: 300px;\n",
       "    overflow: auto;\n",
       "  }\n",
       "  table, th, td {\n",
       "    border: 1px solid black;\n",
       "    border-collapse: collapse;\n",
       "  }\n",
       "  th, td {\n",
       "    padding: 5px;\n",
       "  }\n",
       "  th {\n",
       "    text-align: left;\n",
       "  }\n",
       "</style><div class='table-result-container'><table class='table-result'><thead style='background-color: white'><tr><th>product_id</th><th>product_name</th><th>category</th><th>discounted_price</th><th>actual_price</th><th>discount_percentage</th><th>rating</th><th>rating_count</th><th>about_product</th><th>user_id</th><th>user_name</th><th>review_id</th><th>review_title</th><th>review_content</th><th>img_link</th><th>product_link</th></tr></thead><tbody><tr><td>0</td><td>0</td><td>0</td><td>0</td><td>0</td><td>0</td><td>0</td><td>2</td><td>0</td><td>0</td><td>0</td><td>0</td><td>0</td><td>0</td><td>0</td><td>0</td></tr></tbody></table></div>"
      ]
     },
     "metadata": {
      "application/vnd.databricks.v1+output": {
       "addedWidgets": {},
       "aggData": [],
       "aggError": "",
       "aggOverflow": false,
       "aggSchema": [],
       "aggSeriesLimitReached": false,
       "aggType": "",
       "arguments": {},
       "columnCustomDisplayInfos": {},
       "data": [
        [
         0,
         0,
         0,
         0,
         0,
         0,
         0,
         2,
         0,
         0,
         0,
         0,
         0,
         0,
         0,
         0
        ]
       ],
       "datasetInfos": [],
       "dbfsResultPath": null,
       "isJsonSchema": true,
       "metadata": {},
       "overflow": false,
       "plotOptions": {
        "customPlotOptions": {},
        "displayType": "table",
        "pivotAggregation": null,
        "pivotColumns": null,
        "xColumns": null,
        "yColumns": null
       },
       "removedWidgets": [],
       "schema": [
        {
         "metadata": "{}",
         "name": "product_id",
         "type": "\"long\""
        },
        {
         "metadata": "{}",
         "name": "product_name",
         "type": "\"long\""
        },
        {
         "metadata": "{}",
         "name": "category",
         "type": "\"long\""
        },
        {
         "metadata": "{}",
         "name": "discounted_price",
         "type": "\"long\""
        },
        {
         "metadata": "{}",
         "name": "actual_price",
         "type": "\"long\""
        },
        {
         "metadata": "{}",
         "name": "discount_percentage",
         "type": "\"long\""
        },
        {
         "metadata": "{}",
         "name": "rating",
         "type": "\"long\""
        },
        {
         "metadata": "{}",
         "name": "rating_count",
         "type": "\"long\""
        },
        {
         "metadata": "{}",
         "name": "about_product",
         "type": "\"long\""
        },
        {
         "metadata": "{}",
         "name": "user_id",
         "type": "\"long\""
        },
        {
         "metadata": "{}",
         "name": "user_name",
         "type": "\"long\""
        },
        {
         "metadata": "{}",
         "name": "review_id",
         "type": "\"long\""
        },
        {
         "metadata": "{}",
         "name": "review_title",
         "type": "\"long\""
        },
        {
         "metadata": "{}",
         "name": "review_content",
         "type": "\"long\""
        },
        {
         "metadata": "{}",
         "name": "img_link",
         "type": "\"long\""
        },
        {
         "metadata": "{}",
         "name": "product_link",
         "type": "\"long\""
        }
       ],
       "type": "table"
      }
     },
     "output_type": "display_data"
    }
   ],
   "source": [
    "#checking for nulls \n",
    "null_counts = df.select([count(when(col(c).isNull(), c)).alias(c) for c in df.columns]) \n",
    "display(null_counts)"
   ]
  },
  {
   "cell_type": "code",
   "execution_count": 0,
   "metadata": {
    "application/vnd.databricks.v1+cell": {
     "cellMetadata": {
      "byteLimit": 2048000,
      "rowLimit": 10000
     },
     "inputWidgets": {},
     "nuid": "09428890-0883-4635-987b-7139cf3213bd",
     "showTitle": false,
     "tableResultSettingsMap": {},
     "title": ""
    }
   },
   "outputs": [],
   "source": [
    "#replacing null with 0\n",
    "df = df.fillna({'rating_count':0})"
   ]
  },
  {
   "cell_type": "code",
   "execution_count": 0,
   "metadata": {
    "application/vnd.databricks.v1+cell": {
     "cellMetadata": {
      "byteLimit": 2048000,
      "rowLimit": 10000
     },
     "inputWidgets": {},
     "nuid": "f578a6c0-ca85-4fdf-9bec-8712019740d7",
     "showTitle": false,
     "tableResultSettingsMap": {},
     "title": ""
    }
   },
   "outputs": [],
   "source": [
    "#removing duplicates\n",
    "df = df.dropDuplicates([\"product_id\", \"user_id\"])"
   ]
  },
  {
   "cell_type": "code",
   "execution_count": 0,
   "metadata": {
    "application/vnd.databricks.v1+cell": {
     "cellMetadata": {
      "byteLimit": 2048000,
      "rowLimit": 10000
     },
     "inputWidgets": {},
     "nuid": "8741de4a-0909-4c36-a14f-f9c3106bfddb",
     "showTitle": false,
     "tableResultSettingsMap": {},
     "title": ""
    }
   },
   "outputs": [
    {
     "output_type": "display_data",
     "data": {
      "text/html": [
       "<style scoped>\n",
       "  .table-result-container {\n",
       "    max-height: 300px;\n",
       "    overflow: auto;\n",
       "  }\n",
       "  table, th, td {\n",
       "    border: 1px solid black;\n",
       "    border-collapse: collapse;\n",
       "  }\n",
       "  th, td {\n",
       "    padding: 5px;\n",
       "  }\n",
       "  th {\n",
       "    text-align: left;\n",
       "  }\n",
       "</style><div class='table-result-container'><table class='table-result'><thead style='background-color: white'><tr><th>product_id</th><th>product_name</th><th>avg_rating</th></tr></thead><tbody><tr><td>B0BQRJ3C47</td><td>REDTECH USB-C to Lightning Cable 3.3FT, [Apple MFi Certified] Lightning to Type C Fast Charging Cord Compatible with iPhone 14/13/13 pro/Max/12/11/X/XS/XR/8, Supports Power Delivery - White</td><td>5.0</td></tr><tr><td>B09ZHCJDP1</td><td>Amazon Basics Wireless Mouse | 2.4 GHz Connection, 1600 DPI | Type - C Adapter | Upto 12 Months of Battery Life | Ambidextrous Design | Suitable for PC/Mac/Laptop</td><td>5.0</td></tr><tr><td>B0BP7XLX48</td><td>Syncwire LTG to USB Cable for Fast Charging Compatible with Phone 5/ 5C/ 5S/ 6/ 6S/ 7/8/ X/XR/XS Max/ 11/12/ 13 Series and Pad Air/Mini, Pod & Other Devices (1.1 Meter, White)</td><td>5.0</td></tr><tr><td>B0B53DS4TF</td><td>Instant Pot Air Fryer, Vortex 2QT, Touch Control Panel, 360° EvenCrisp™ Technology, Uses 95 % less Oil, 4-in-1 Appliance: Air Fry, Roast, Bake, Reheat (Vortex 1.97Litre, Black)</td><td>4.8</td></tr><tr><td>B0BQ3K23Y1</td><td>Oratech Coffee Frother electric, milk frother electric, coffee beater, cappuccino maker, Coffee Foamer, Mocktail Mixer, Coffee Foam Maker, coffee whisker electric, Froth Maker, coffee stirrers electric, coffee frothers, Coffee Blender, (6 Month Warranty) (Multicolour)</td><td>4.8</td></tr><tr><td>B0BR4F878Q</td><td>Swiffer Instant Electric Water Heater Faucet Tap Home-Kitchen Instantaneous Water Heater Tank less for Tap, LED Electric Head Water Heaters Tail Gallon Comfort(3000W) ((Pack of 1))</td><td>4.8</td></tr><tr><td>B0BLC2BYPX</td><td>Zuvexa USB Rechargeable Electric Foam Maker - Handheld Milk Wand Mixer Frother for Hot Milk, Hand Blender Coffee, Egg Beater (Black)</td><td>4.7</td></tr><tr><td>B0B23LW7NV</td><td>Spigen EZ Fit Tempered Glass Screen Protector for iPhone 14 Pro Max - 2 Pack (Sensor Protection)</td><td>4.7</td></tr><tr><td>B0BM9H2NY9</td><td>Multifunctional 2 in 1 Electric Egg Boiling Steamer Egg Frying Pan Egg Boiler Electric Automatic Off with Egg Boiler Machine Non-Stick Electric Egg Frying Pan-Tiger Woods (Multy)</td><td>4.7</td></tr><tr><td>B09WN3SRC7</td><td>Sony Bravia 164 cm (65 inches) 4K Ultra HD Smart LED Google TV KD-65X74K (Black)</td><td>4.7</td></tr></tbody></table></div>"
      ]
     },
     "metadata": {
      "application/vnd.databricks.v1+output": {
       "addedWidgets": {},
       "aggData": [],
       "aggError": "",
       "aggOverflow": false,
       "aggSchema": [],
       "aggSeriesLimitReached": false,
       "aggType": "",
       "arguments": {},
       "columnCustomDisplayInfos": {},
       "data": [
        [
         "B0BQRJ3C47",
         "REDTECH USB-C to Lightning Cable 3.3FT, [Apple MFi Certified] Lightning to Type C Fast Charging Cord Compatible with iPhone 14/13/13 pro/Max/12/11/X/XS/XR/8, Supports Power Delivery - White",
         5.0
        ],
        [
         "B09ZHCJDP1",
         "Amazon Basics Wireless Mouse | 2.4 GHz Connection, 1600 DPI | Type - C Adapter | Upto 12 Months of Battery Life | Ambidextrous Design | Suitable for PC/Mac/Laptop",
         5.0
        ],
        [
         "B0BP7XLX48",
         "Syncwire LTG to USB Cable for Fast Charging Compatible with Phone 5/ 5C/ 5S/ 6/ 6S/ 7/8/ X/XR/XS Max/ 11/12/ 13 Series and Pad Air/Mini, Pod & Other Devices (1.1 Meter, White)",
         5.0
        ],
        [
         "B0B53DS4TF",
         "Instant Pot Air Fryer, Vortex 2QT, Touch Control Panel, 360° EvenCrisp™ Technology, Uses 95 % less Oil, 4-in-1 Appliance: Air Fry, Roast, Bake, Reheat (Vortex 1.97Litre, Black)",
         4.8
        ],
        [
         "B0BQ3K23Y1",
         "Oratech Coffee Frother electric, milk frother electric, coffee beater, cappuccino maker, Coffee Foamer, Mocktail Mixer, Coffee Foam Maker, coffee whisker electric, Froth Maker, coffee stirrers electric, coffee frothers, Coffee Blender, (6 Month Warranty) (Multicolour)",
         4.8
        ],
        [
         "B0BR4F878Q",
         "Swiffer Instant Electric Water Heater Faucet Tap Home-Kitchen Instantaneous Water Heater Tank less for Tap, LED Electric Head Water Heaters Tail Gallon Comfort(3000W) ((Pack of 1))",
         4.8
        ],
        [
         "B0BLC2BYPX",
         "Zuvexa USB Rechargeable Electric Foam Maker - Handheld Milk Wand Mixer Frother for Hot Milk, Hand Blender Coffee, Egg Beater (Black)",
         4.7
        ],
        [
         "B0B23LW7NV",
         "Spigen EZ Fit Tempered Glass Screen Protector for iPhone 14 Pro Max - 2 Pack (Sensor Protection)",
         4.7
        ],
        [
         "B0BM9H2NY9",
         "Multifunctional 2 in 1 Electric Egg Boiling Steamer Egg Frying Pan Egg Boiler Electric Automatic Off with Egg Boiler Machine Non-Stick Electric Egg Frying Pan-Tiger Woods (Multy)",
         4.7
        ],
        [
         "B09WN3SRC7",
         "Sony Bravia 164 cm (65 inches) 4K Ultra HD Smart LED Google TV KD-65X74K (Black)",
         4.7
        ]
       ],
       "datasetInfos": [],
       "dbfsResultPath": null,
       "isJsonSchema": true,
       "metadata": {},
       "overflow": false,
       "plotOptions": {
        "customPlotOptions": {},
        "displayType": "table",
        "pivotAggregation": null,
        "pivotColumns": null,
        "xColumns": null,
        "yColumns": null
       },
       "removedWidgets": [],
       "schema": [
        {
         "metadata": "{}",
         "name": "product_id",
         "type": "\"string\""
        },
        {
         "metadata": "{}",
         "name": "product_name",
         "type": "\"string\""
        },
        {
         "metadata": "{}",
         "name": "avg_rating",
         "type": "\"double\""
        }
       ],
       "type": "table"
      }
     },
     "output_type": "display_data"
    }
   ],
   "source": [
    "#top rated products on amazon\n",
    "top_rated_product=df.groupBy('product_id','product_name').agg(avg('rating').alias('avg_rating')).orderBy(desc('avg_rating')).limit(10)\n",
    "top_rated_product.display()"
   ]
  },
  {
   "cell_type": "code",
   "execution_count": 0,
   "metadata": {
    "application/vnd.databricks.v1+cell": {
     "cellMetadata": {
      "byteLimit": 2048000,
      "rowLimit": 10000
     },
     "inputWidgets": {},
     "nuid": "fa2383d5-6069-408c-a672-ed10c68dd298",
     "showTitle": false,
     "tableResultSettingsMap": {},
     "title": ""
    }
   },
   "outputs": [
    {
     "output_type": "display_data",
     "data": {
      "text/html": [
       "<style scoped>\n",
       "  .table-result-container {\n",
       "    max-height: 300px;\n",
       "    overflow: auto;\n",
       "  }\n",
       "  table, th, td {\n",
       "    border: 1px solid black;\n",
       "    border-collapse: collapse;\n",
       "  }\n",
       "  th, td {\n",
       "    padding: 5px;\n",
       "  }\n",
       "  th {\n",
       "    text-align: left;\n",
       "  }\n",
       "</style><div class='table-result-container'><table class='table-result'><thead style='background-color: white'><tr><th>product_id</th><th>product_name</th><th>count</th></tr></thead><tbody><tr><td>B09YV4MW2T</td><td>Fire-Boltt India's No 1 Smartwatch Brand Talk 2 Bluetooth Calling Smartwatch with Dual Button, Hands On Voice Assistance, 60 Sports Modes, in Built Mic & Speaker with IP68 Rating</td><td>2</td></tr><tr><td>B08Y1TFSP6</td><td>pTron Solero TB301 3A Type-C Data and Fast Charging Cable, Made in India, 480Mbps Data Sync, Strong and Durable 1.5-Meter Nylon Braided USB Cable for Type-C Devices for Charging Adapter (Black)</td><td>2</td></tr><tr><td>B08WRBG3XW</td><td>boAt Type C A325 Tangle-free, Sturdy Type C Cable with 3A Rapid Charging & 480mbps Data Transmission(Black)</td><td>2</td></tr><tr><td>B08Y1SJVV5</td><td>pTron Solero MB301 3A Micro USB Data & Charging Cable, Made in India, 480Mbps Data Sync, Strong & Durable 1.5-Meter Nylon Braided USB Cable for Micro USB Devices - (Black)</td><td>2</td></tr><tr><td>B077Z65HSD</td><td>boAt A400 USB Type-C to USB-A 2.0 Male Data Cable, 2 Meter (Black)</td><td>2</td></tr><tr><td>B0B5LVS732</td><td>\"Noise Pulse Go Buzz Smart Watch Bluetooth Calling with 1.69\"\" Display</td><td>2</td></tr><tr><td>B09MT84WV5</td><td>Samsung EVO Plus 128GB microSDXC UHS-I U3 130MB/s Full HD & 4K UHD Memory Card with Adapter (MB-MC128KA), Blue</td><td>2</td></tr><tr><td>B00P93X2H6</td><td>Classmate Pulse Spiral Notebook - 240 mm x 180 mm, Soft Cover, 200 Pages, Unruled</td><td>1</td></tr><tr><td>B078JF6X9B</td><td>Havells Instanio 3-Litre 4.5KW Instant Water Heater (Geyser), White Blue</td><td>1</td></tr><tr><td>B078V8R9BS</td><td>Butterfly EKN 1.5-Litre Electric Kettle (Silver with Black)</td><td>1</td></tr></tbody></table></div>"
      ]
     },
     "metadata": {
      "application/vnd.databricks.v1+output": {
       "addedWidgets": {},
       "aggData": [],
       "aggError": "",
       "aggOverflow": false,
       "aggSchema": [],
       "aggSeriesLimitReached": false,
       "aggType": "",
       "arguments": {},
       "columnCustomDisplayInfos": {},
       "data": [
        [
         "B09YV4MW2T",
         "Fire-Boltt India's No 1 Smartwatch Brand Talk 2 Bluetooth Calling Smartwatch with Dual Button, Hands On Voice Assistance, 60 Sports Modes, in Built Mic & Speaker with IP68 Rating",
         2
        ],
        [
         "B08Y1TFSP6",
         "pTron Solero TB301 3A Type-C Data and Fast Charging Cable, Made in India, 480Mbps Data Sync, Strong and Durable 1.5-Meter Nylon Braided USB Cable for Type-C Devices for Charging Adapter (Black)",
         2
        ],
        [
         "B08WRBG3XW",
         "boAt Type C A325 Tangle-free, Sturdy Type C Cable with 3A Rapid Charging & 480mbps Data Transmission(Black)",
         2
        ],
        [
         "B08Y1SJVV5",
         "pTron Solero MB301 3A Micro USB Data & Charging Cable, Made in India, 480Mbps Data Sync, Strong & Durable 1.5-Meter Nylon Braided USB Cable for Micro USB Devices - (Black)",
         2
        ],
        [
         "B077Z65HSD",
         "boAt A400 USB Type-C to USB-A 2.0 Male Data Cable, 2 Meter (Black)",
         2
        ],
        [
         "B0B5LVS732",
         "\"Noise Pulse Go Buzz Smart Watch Bluetooth Calling with 1.69\"\" Display",
         2
        ],
        [
         "B09MT84WV5",
         "Samsung EVO Plus 128GB microSDXC UHS-I U3 130MB/s Full HD & 4K UHD Memory Card with Adapter (MB-MC128KA), Blue",
         2
        ],
        [
         "B00P93X2H6",
         "Classmate Pulse Spiral Notebook - 240 mm x 180 mm, Soft Cover, 200 Pages, Unruled",
         1
        ],
        [
         "B078JF6X9B",
         "Havells Instanio 3-Litre 4.5KW Instant Water Heater (Geyser), White Blue",
         1
        ],
        [
         "B078V8R9BS",
         "Butterfly EKN 1.5-Litre Electric Kettle (Silver with Black)",
         1
        ]
       ],
       "datasetInfos": [],
       "dbfsResultPath": null,
       "isJsonSchema": true,
       "metadata": {},
       "overflow": false,
       "plotOptions": {
        "customPlotOptions": {},
        "displayType": "table",
        "pivotAggregation": null,
        "pivotColumns": null,
        "xColumns": null,
        "yColumns": null
       },
       "removedWidgets": [],
       "schema": [
        {
         "metadata": "{}",
         "name": "product_id",
         "type": "\"string\""
        },
        {
         "metadata": "{}",
         "name": "product_name",
         "type": "\"string\""
        },
        {
         "metadata": "{}",
         "name": "count",
         "type": "\"long\""
        }
       ],
       "type": "table"
      }
     },
     "output_type": "display_data"
    }
   ],
   "source": [
    "#Most Reviewed Product\n",
    "\n",
    "most_reviewed_product=df.groupBy('product_id','product_name').count().orderBy(desc('count')).limit(10)\n",
    "most_reviewed_product.display()"
   ]
  },
  {
   "cell_type": "code",
   "execution_count": 0,
   "metadata": {
    "application/vnd.databricks.v1+cell": {
     "cellMetadata": {
      "byteLimit": 2048000,
      "rowLimit": 10000
     },
     "inputWidgets": {},
     "nuid": "e5f38bca-266c-4b44-967f-e10b1e7c2183",
     "showTitle": false,
     "tableResultSettingsMap": {},
     "title": ""
    }
   },
   "outputs": [
    {
     "output_type": "display_data",
     "data": {
      "text/html": [
       "<style scoped>\n",
       "  .table-result-container {\n",
       "    max-height: 300px;\n",
       "    overflow: auto;\n",
       "  }\n",
       "  table, th, td {\n",
       "    border: 1px solid black;\n",
       "    border-collapse: collapse;\n",
       "  }\n",
       "  th, td {\n",
       "    padding: 5px;\n",
       "  }\n",
       "  th {\n",
       "    text-align: left;\n",
       "  }\n",
       "</style><div class='table-result-container'><table class='table-result'><thead style='background-color: white'><tr><th>category</th><th>avg_discount</th></tr></thead><tbody><tr><td> reminders</td><td>null</td></tr><tr><td>Computers&Accessories|Accessories&Peripherals|HardDriveAccessories|Caddies</td><td>null</td></tr><tr><td>OfficeProducts|OfficePaperProducts|Paper|Stationery|Notebooks,WritingPads&Diaries|WireboundNotebooks</td><td>null</td></tr><tr><td>OfficeProducts|OfficePaperProducts|Paper|Stationery|Notebooks,WritingPads&Diaries|CompositionNotebooks</td><td>null</td></tr><tr><td>Electronics|Cameras&Photography|Accessories|Batteries&Chargers|BatteryChargers</td><td>null</td></tr><tr><td>Computers&Accessories|ExternalDevices&DataStorage|ExternalMemoryCardReaders</td><td>null</td></tr><tr><td> TWS Connection</td><td>null</td></tr><tr><td> 123 Sports Mode</td><td>null</td></tr><tr><td>Computers&Accessories|Accessories&Peripherals|TabletAccessories|ScreenProtectors</td><td>null</td></tr><tr><td>Computers&Accessories|Accessories&Peripherals|Audio&VideoAccessories|PCSpeakers</td><td>null</td></tr></tbody></table></div>"
      ]
     },
     "metadata": {
      "application/vnd.databricks.v1+output": {
       "addedWidgets": {},
       "aggData": [],
       "aggError": "",
       "aggOverflow": false,
       "aggSchema": [],
       "aggSeriesLimitReached": false,
       "aggType": "",
       "arguments": {},
       "columnCustomDisplayInfos": {},
       "data": [
        [
         " reminders",
         null
        ],
        [
         "Computers&Accessories|Accessories&Peripherals|HardDriveAccessories|Caddies",
         null
        ],
        [
         "OfficeProducts|OfficePaperProducts|Paper|Stationery|Notebooks,WritingPads&Diaries|WireboundNotebooks",
         null
        ],
        [
         "OfficeProducts|OfficePaperProducts|Paper|Stationery|Notebooks,WritingPads&Diaries|CompositionNotebooks",
         null
        ],
        [
         "Electronics|Cameras&Photography|Accessories|Batteries&Chargers|BatteryChargers",
         null
        ],
        [
         "Computers&Accessories|ExternalDevices&DataStorage|ExternalMemoryCardReaders",
         null
        ],
        [
         " TWS Connection",
         null
        ],
        [
         " 123 Sports Mode",
         null
        ],
        [
         "Computers&Accessories|Accessories&Peripherals|TabletAccessories|ScreenProtectors",
         null
        ],
        [
         "Computers&Accessories|Accessories&Peripherals|Audio&VideoAccessories|PCSpeakers",
         null
        ]
       ],
       "datasetInfos": [],
       "dbfsResultPath": null,
       "isJsonSchema": true,
       "metadata": {},
       "overflow": false,
       "plotOptions": {
        "customPlotOptions": {},
        "displayType": "table",
        "pivotAggregation": null,
        "pivotColumns": null,
        "xColumns": null,
        "yColumns": null
       },
       "removedWidgets": [],
       "schema": [
        {
         "metadata": "{}",
         "name": "category",
         "type": "\"string\""
        },
        {
         "metadata": "{}",
         "name": "avg_discount",
         "type": "\"double\""
        }
       ],
       "type": "table"
      }
     },
     "output_type": "display_data"
    }
   ],
   "source": [
    "#discount Analysis\n",
    "\n",
    "discount_analysis=df.groupBy('category').agg(avg('discount_percentage').alias('avg_discount'))\n",
    "discount_analysis.limit(10).display()"
   ]
  },
  {
   "cell_type": "code",
   "execution_count": 0,
   "metadata": {
    "application/vnd.databricks.v1+cell": {
     "cellMetadata": {
      "byteLimit": 2048000,
      "rowLimit": 10000
     },
     "inputWidgets": {},
     "nuid": "42a6a8b2-f194-4e11-b61b-e7271c0c23bf",
     "showTitle": false,
     "tableResultSettingsMap": {},
     "title": ""
    }
   },
   "outputs": [
    {
     "output_type": "display_data",
     "data": {
      "text/html": [
       "<style scoped>\n",
       "  .table-result-container {\n",
       "    max-height: 300px;\n",
       "    overflow: auto;\n",
       "  }\n",
       "  table, th, td {\n",
       "    border: 1px solid black;\n",
       "    border-collapse: collapse;\n",
       "  }\n",
       "  th, td {\n",
       "    padding: 5px;\n",
       "  }\n",
       "  th {\n",
       "    text-align: left;\n",
       "  }\n",
       "</style><div class='table-result-container'><table class='table-result'><thead style='background-color: white'><tr><th>product_id</th><th>avg_rating</th><th>rating_count</th></tr></thead><tbody><tr><td>B0B3CQBRB4</td><td>4.3</td><td>1</td></tr><tr><td>B09TWHTBKQ</td><td>4.1</td><td>1</td></tr><tr><td>B09T2WRLJJ</td><td>3.9</td><td>1</td></tr><tr><td>B09SJ1FTYV</td><td>4.0</td><td>1</td></tr><tr><td>B09CTRPSJR</td><td>3.8</td><td>1</td></tr><tr><td>B0B25DJ352</td><td>4.3</td><td>1</td></tr><tr><td>B00NH11KIK</td><td>4.5</td><td>2</td></tr><tr><td>B08CTNJ985</td><td>4.3</td><td>1</td></tr><tr><td>B0BF54LXW6</td><td>null</td><td>1</td></tr><tr><td>B098QXR9X2</td><td>4.1</td><td>1</td></tr></tbody></table></div>"
      ]
     },
     "metadata": {
      "application/vnd.databricks.v1+output": {
       "addedWidgets": {},
       "aggData": [],
       "aggError": "",
       "aggOverflow": false,
       "aggSchema": [],
       "aggSeriesLimitReached": false,
       "aggType": "",
       "arguments": {},
       "columnCustomDisplayInfos": {},
       "data": [
        [
         "B0B3CQBRB4",
         4.3,
         1
        ],
        [
         "B09TWHTBKQ",
         4.1,
         1
        ],
        [
         "B09T2WRLJJ",
         3.9,
         1
        ],
        [
         "B09SJ1FTYV",
         4.0,
         1
        ],
        [
         "B09CTRPSJR",
         3.8,
         1
        ],
        [
         "B0B25DJ352",
         4.3,
         1
        ],
        [
         "B00NH11KIK",
         4.5,
         2
        ],
        [
         "B08CTNJ985",
         4.3,
         1
        ],
        [
         "B0BF54LXW6",
         null,
         1
        ],
        [
         "B098QXR9X2",
         4.1,
         1
        ]
       ],
       "datasetInfos": [],
       "dbfsResultPath": null,
       "isJsonSchema": true,
       "metadata": {},
       "overflow": false,
       "plotOptions": {
        "customPlotOptions": {},
        "displayType": "table",
        "pivotAggregation": null,
        "pivotColumns": null,
        "xColumns": null,
        "yColumns": null
       },
       "removedWidgets": [],
       "schema": [
        {
         "metadata": "{}",
         "name": "product_id",
         "type": "\"string\""
        },
        {
         "metadata": "{}",
         "name": "avg_rating",
         "type": "\"double\""
        },
        {
         "metadata": "{}",
         "name": "rating_count",
         "type": "\"long\""
        }
       ],
       "type": "table"
      }
     },
     "output_type": "display_data"
    }
   ],
   "source": [
    "#User Engagment \n",
    "\n",
    "user_engagement=df.groupBy('product_id').agg(avg('rating').alias('avg_rating'),count('rating').alias('rating_count'))\n",
    "user_engagement.limit(10).display()"
   ]
  },
  {
   "cell_type": "code",
   "execution_count": 0,
   "metadata": {
    "application/vnd.databricks.v1+cell": {
     "cellMetadata": {
      "byteLimit": 2048000,
      "rowLimit": 10000
     },
     "inputWidgets": {},
     "nuid": "100c7c47-ba76-489f-82ad-fa16600c8568",
     "showTitle": false,
     "tableResultSettingsMap": {},
     "title": ""
    }
   },
   "outputs": [],
   "source": [
    "#creating Temp Table from DF\n",
    "\n",
    "df.createOrReplaceTempView('amazon_sales_table')"
   ]
  },
  {
   "cell_type": "code",
   "execution_count": 0,
   "metadata": {
    "application/vnd.databricks.v1+cell": {
     "cellMetadata": {
      "byteLimit": 2048000,
      "implicitDf": true,
      "rowLimit": 10000
     },
     "inputWidgets": {},
     "nuid": "80e25910-8ba3-4856-86c7-0750c5183541",
     "showTitle": false,
     "tableResultSettingsMap": {},
     "title": ""
    }
   },
   "outputs": [
    {
     "output_type": "display_data",
     "data": {
      "text/html": [
       "<style scoped>\n",
       "  .table-result-container {\n",
       "    max-height: 300px;\n",
       "    overflow: auto;\n",
       "  }\n",
       "  table, th, td {\n",
       "    border: 1px solid black;\n",
       "    border-collapse: collapse;\n",
       "  }\n",
       "  th, td {\n",
       "    padding: 5px;\n",
       "  }\n",
       "  th {\n",
       "    text-align: left;\n",
       "  }\n",
       "</style><div class='table-result-container'><table class='table-result'><thead style='background-color: white'><tr><th>product_id</th><th>product_name</th><th>category</th><th>discounted_price</th><th>actual_price</th><th>discount_percentage</th><th>rating</th><th>rating_count</th><th>about_product</th><th>user_id</th><th>user_name</th><th>review_id</th><th>review_title</th><th>review_content</th><th>img_link</th><th>product_link</th></tr></thead><tbody><tr><td>B0BR4F878Q</td><td>Swiffer Instant Electric Water Heater Faucet Tap Home-Kitchen Instantaneous Water Heater Tank less for Tap, LED Electric Head Water Heaters Tail Gallon Comfort(3000W) ((Pack of 1))</td><td>Home&Kitchen|Heating,Cooling&AirQuality|WaterHeaters&Geysers|InstantWaterHeaters</td><td>₹1,439</td><td>₹1,999</td><td>28%</td><td>4.8</td><td>53,803</td><td>✔Quick Electric Hot Water Tap Heating tube: high-purity copper liner heating element Rated voltage: 220V/50HZ Rated Power: 3000W|✔When you receive Swiffer Water tankless instant electric tap water heater, please do not test it in your hands, you need install it well and then test, or it will be dangerous. Please operate it according to the instructions.|✔Support and well-being of dual-use electric faucet, while heated, the water, the lower the temperature, whereas the smaller the flow, the higher the temperature.|✔Power unified are the 3000-watt, 5 seconds fast heat! Your hands won't feel cold when washing dishes or doing the laundry or washing vegetables. Of course, washing face and brushing teeth with warm water every morning are great enjoyments.|✔Your hands won't feel cold when washing dishes or doing the laundry. Of course,washing face and brushing teeth with warm water every morning are great enjoyments.|✔When you receive the water heater, please do not test it in your hands, you need install it well and then test, or it will be dangerous. Please operate it according to the instructions.|100% Brand New And High Quality ! Surface Treatment: Polished, Installation Type: Deck Mounted, Number of Handles: Single Handle|Temperature Mode of Water Heater - The tankless water heater electric heats the flow passing through it to a +60 degrees Celsius temperature. It takes at least 5 seconds to heat the water. The heated water temperature is from 30 to 40 degrees in winter and from 30 to 60 degrees in summer.</td><td>AEU7DVFEL43XZ6T4D572W2ZLBRKQ,AGWOH7CFDMUVW52NMZWQBKBNNQOA,AGZN422FGG7JO3T5YY6IVUELOODA</td><td>Yogita g.,Amazon Customer,Mimsy</td><td>R2WHW4PEF14WOD,R2DCCZWUGI0O0K,R1FA1HH6VL1RAL</td><td>Best Product,It’s expansive but it works well upto 800sqft area,Great product</td><td>Must buy best Fabulous product I recommend this👍👍,For small place it’s gud,A great product. Works wonders on my vitrified tile floors.</td><td>https://m.media-amazon.com/images/I/41+t2HWvwFL._SY300_SX300_.jpg</td><td>https://www.amazon.in/Swiffer-Instant-Electric-Home-Kitchen-Instantaneous/dp/B0BR4F878Q/ref=sr_1_150?qid=1672923597&s=kitchen&sr=1-150</td></tr><tr><td>B0BQRJ3C47</td><td>REDTECH USB-C to Lightning Cable 3.3FT, [Apple MFi Certified] Lightning to Type C Fast Charging Cord Compatible with iPhone 14/13/13 pro/Max/12/11/X/XS/XR/8, Supports Power Delivery - White</td><td>Computers&Accessories|Accessories&Peripherals|Cables&Accessories|Cables|USBCables</td><td>₹249</td><td>₹999</td><td>75%</td><td>5.0</td><td>0</td><td>💎[The Fastest Charge] - This iPhone USB C cable supports PD 3.0 fast charging, up to 20W with USB-C Power Delivery adapters such as 18W, 20W, 29W, 30W, 61W, or 87W. Charge your iPhone from 0% to 50% in just 25 mins, and data transfer speeds up to 480Mbps (1200 songs synced per minute)|💎[Amazing Durability] - With top-rated material and coated with premium TPE, Syncwire Apple USB C cable has exceptional durability to be bent at 90 degrees for 15000+ times and the connector is capable of holding up to 20kg of weight without falling off.|💎[Perfect Compatibility] - Syncwire Type C to lightning cable supports PD Fast Charge 3A (max) for iPhone 14, iPhone 14 Pro, iPhone 14 Pro Max, iPhone 13 mini, iPhone 13 pro max, iPhone 13, iPhone 12 Pro, iPhone 12 Pro max, iPhone 11, iPhone 11 Pro, iPhone 11 Pro Max, iPhone 8, iPhone 8 Plus, iPhone X, iPhone XS, iPhone XR, iPhone XS Max, iPad 8, iPad Pro (10.5-inch), iPad Pro (12.9-inch) 1st generation, iPad Pro (12.9-inch) 2nd generation.|Apple MFi Certified - Lightning cable ensure 100% compatibility with iPhone 14, 13, 13 Pro, 13 Pro Max, 13 Mini, 12, 12 Mini, 12 Pro, 12 Pro Max, SE 2020, iPhone 11, 11 Pro, 11 Pro Max, XR , Xs , Xs Max, X, 8, 8 plus, and iPad|20W Fast Charging Cable: USB C to lightning cable supports safe high-speed charging and fast data transfer,working better and quick charge your devices.(Note:You need to use 20W or above USB-C power adapter to achieve power delivery fast charge.)</td><td>AGJC5O5H5BBXWUV7WRIEIOOR3TVQ</td><td>Abdul Gafur</td><td>RQXD5SAMMPC6L</td><td>Awesome Product</td><td>Quick delivery.Awesome ProductPacking was goodJust opened the productExcited to you it</td><td>https://m.media-amazon.com/images/I/31-q0xhaTAL._SY445_SX342_QL70_FMwebp_.jpg</td><td>https://www.amazon.in/REDTECH-Lightning-Certified-Charging-Compatible/dp/B0BQRJ3C47/ref=sr_1_491?qid=1672909149&s=electronics&sr=1-491</td></tr><tr><td>B0BQ3K23Y1</td><td>Oratech Coffee Frother electric, milk frother electric, coffee beater, cappuccino maker, Coffee Foamer, Mocktail Mixer, Coffee Foam Maker, coffee whisker electric, Froth Maker, coffee stirrers electric, coffee frothers, Coffee Blender, (6 Month Warranty) (Multicolour)</td><td>Home&Kitchen|Kitchen&HomeAppliances|SmallKitchenAppliances|HandBlenders</td><td>₹279</td><td>₹499</td><td>44%</td><td>4.8</td><td>28</td><td>-Make delicious milk foam creamer for your drinks at home without a trip to Starbucks, with your own coffee maker with milk frother. The benefits of having your own electric cold coffee maker are endless, you can make your own best coffee, you know yours tastes the best.|-Proven & Trusted Quality: We use only premium materials. Our milk frother for coffee will not rust or break, ever. Built to last.|-Easy to clean Coffee frother electric: The durable, convenient metal stand gives easy access for foaming milk in seconds. Cleanup for this portable coffee maker is even faster. To clean just put the coffee mixer blender in hot running water and briefly turn it on – instantly clean!|-Electric Coffee Frother Works better than a manual coffee hand blender for making matcha/tea and works far better than fork or Frother for coffee. It works very well to mix nutritious protein powder drinks with no extra container, blender or bottle shaker to wash. Use our mocktail mixer for your whisking and mixing needs.|-Design: our coffee beater comes with an elegant design to fit into any modern kitchen.|It requires two AA Double Batteries to start. Batteries are not INCLUDED.</td><td>AGRJZJKWKIE573KM5FWPOH4F7YCA,AEHV4VOLDQX5XYA42OZHALYA3USA,AHOZBF2VFWS62WO3XJT73NHAPQMA,AECYWFZ53SIMOPOKAILDW3VNGRRA,AHGAALVLOMKMYOG4JAJALWFSHLCA,AG6EGJADJ2KCEGGKRPKY2B4MAJMA,AGVVZWV4QHKHNWI7FT3ENKKKBCHA,AHIRZ7N53BSLWFWNEUWYKT6NH6OQ</td><td>Amazon Customer,Neha Mehta,Nischal Agarwal,tharangini reddy,Mohammad Salim,Ak,suyesh v.,Kiran ahuja</td><td>R3907SDNN9VR5Y,R1NNMXA39722T8,RXQNT49DKJ26S,R22MNVNS4IIKG3,R2CQDP0G85P8C0,RMJZ65KLW040B,R2M6EZZQ3RC4AX,RLWCOK6XMDAGC</td><td>Oratech Best Coffee Frother,Great,My review about Oratech Coffee Frother for milk,Good product,Easy to use 👍,Good product,best product,Easy to use</td><td>Overall, I love this Oratech Coffee frother and have used it soooo many times since purchasing it. I mostly use it to make whipped coffee but I've also used it for mixing protein powder in milk and frothing milk / creamer for coffee.It is incredible effective for exclusively liquid substances like milk and creamer; I realized this after over-frothing my creamer one morning to the point of pure foam lol. After that I kept it in mind and I know to only do it for a short amount of time. Super easy to use, versatile in what it can be used for (as far as liquids go), and tbh it just looks really cute on the coffee-making section of my counter. The stand is a hugeeee plus, I definitely wouldn't purchase an alternative option without one.It gets the job done for whipped coffee.I also use this product to blend my matcha powder and my turmeric-cinnamon-ginger-coconut milk powder lattes. This frother takes out all the lumps and bumps. Because the resulting blend is smooth, it does not waste the ingredients like stirring with a spoon. So, so great! It has made my favorites even more practical and delicious. I have not found anything about this product that I do not like. I would recommend this product to others and have already done so. Get it! You will be pleased. It is the best Coffee Beater.,I really liked this coffee frother. With its help I am making Cappuccino Latte at home easily. Easy to clean also.,This oratech coffee frother makes coffee game easier and fun.After using it for a week. I’m sharing its pros and consPros:1. Frothing milk for coffee is easier and fun with Oratech Coffee Beater.2. Material quality is good.3. It is portable so you can use it anywhere.4. It is small so you can keep it anywhere.Cons:1. Frothing heavy liquid is tough.My overall feeling about this product is it you are coffee lover and you want to make foamy coffee. It is best for you.,Best quality product. Easy to use and easy to clean. Best coffee frother and easy to coffee making. I loved this product.,This product is easy to use, durable and helps in blending quickly.,Such a good product and enjoying to make coffee and handy too.👍😊😊,Best milk frother for coffeeIt is easy to use.,Every coffee lover must try this electric coffee frother</td><td>https://m.media-amazon.com/images/W/WEBP_402378-T2/images/I/41t3WVUlRmL._SX300_SY300_QL70_FMwebp_.jpg</td><td>https://www.amazon.in/Oratech-electric-cappuccino-Mocktail-Multicolour/dp/B0BQ3K23Y1/ref=sr_1_216?qid=1672923601&s=kitchen&sr=1-216</td></tr><tr><td>B0BPJBTB3F</td><td>Khaitan ORFin Fan heater for Home and kitchen-K0 2215</td><td>Home&Kitchen|Heating,Cooling&AirQuality|RoomHeaters|FanHeaters</td><td>₹1,299</td><td>₹2,495</td><td>48%</td><td>2</td><td>2</td><td>Khaitan Orfin Fan heater for Home and kitchen|POWERFUL 2000 WATT|HEATING POSITION 1000 W-2000W|ADJUSTABLE THERMOSTAT TEMP.CONTROL|AUTOMATIC THERMAL CUTOUT FOR SAFETY|FRONT GRILL FOR SAFETY|TURBO FAN</td><td>AGHT3K4KSG5MAQUSXRDT5VNB73GA,AE4Q5XQ7SZW35EEUJKQ3IV2IIBQQ</td><td>Manidipa Sengupta,Vidisha</td><td>R1OO2ED6615EX1,RR4S5JTJMCPA5</td><td>Bad quality,Amazing product..</td><td>The heating capacity is zero .Moreover i have initiated return request. Noone has come to collect it,Best heater at this price. Quality is very good . Suggest everyone to purchase this heater.......... amazing product to buy...</td><td>https://m.media-amazon.com/images/W/WEBP_402378-T1/images/I/31B8Pd1SmLL._SX300_SY300_QL70_FMwebp_.jpg</td><td>https://www.amazon.in/Khaitan-ORFin-heater-Home-kitchen-K0/dp/B0BPJBTB3F/ref=sr_1_326?qid=1672923609&s=kitchen&sr=1-326</td></tr><tr><td>B0BPCJM7TB</td><td>WIDEWINGS Electric Handheld Milk Wand Mixer Frother for Latte Coffee Hot Milk, Milk Frother for Coffee, Egg Beater, Hand Blender, Coffee Beater with Stand</td><td>Home&Kitchen|Kitchen&HomeAppliances|SmallKitchenAppliances|HandBlenders</td><td>₹259</td><td>₹999</td><td>74%</td><td>4</td><td>43</td><td>The battery operated milk frother is easy to control and easy to clean, use with 2 AA batteries. Handheld version makes the frother easy to use by hand. Battery operated milk frother will be very easy to install.|15 seconds is enough to make cup of frothy drink by this milk frother, you can use it as coffee frother, latte frother, foam maker, hot chocolate maker, matcha whisk and other drink blender. Note Not recommended for heavy usage|WIDEWINGS milk frother can be used for cappuccino, caffè latte, hot chocolate, frappè, milkshake and any other drinks. It’s easy to make drinks by this milk frother handheld version.|Not Included for safety , please insert new batteries in opposite direction only|OPERATED BY AA 1.5 V x 2 Batteries (NOT included) & Color send as per availabilty.</td><td>AFSZEPUJZUDS3NRVEAO5MHUCAEPA,AHU7IIQ2UVTKGV6WW7KMOU6LTXFA,AF76XTK3GUL5U7RJUHCGDNUF6JPA,AE3AAKFCFKJRKT76B4KMGZGIQNOQ,AEN6TRUOOVQSGJ2OMP76ATCWQRFQ,AF6Q6RSLWNO3YXJ3KHFWGSFMU5UQ,AGCHBCFVIMD5WH4P3TN377OC2LRQ,AFMKVDP5GTOGGOS2QQ6DONW6SJTQ</td><td>Priti Sharma,ramya,Aman,ShashankVerma,Ved,Sushree,Sameer,UMANG PATEL</td><td>R35KB9ZGJU69DM,R2WAUSC1WTJAI1,R3602Y24JS49JI,R1TBI06WZKGIRG,R20MFO7K9BOV48,R3V4ZRTE667XFW,R1YAJKA5XF1GJY,R24VC2SIKJTTCC</td><td>Nice frother,Nice product I like this product,Best,Very low power and quality,Good quality,Waste of money,Awesome,Satisfied purchase</td><td>This is my first coffee frother and I just loved it. It made the frothing ready for coffee in just 1 minute.,,Its a very good product. easy handling,,It is easy to use and easy to clean . Also light weight and good speed that is waht much needed for frothing. It is Worth buying.,Worst product,This product is easy to control and easy to clean, you can use it as coffee, foam maker, hot chocolate maker. Best in market.,I ordered this for my own use. It's a really very amazing coffee frother as well as mixer for milk.Very reliable product.</td><td>https://m.media-amazon.com/images/I/41sJ4KQa5xL._SX300_SY300_QL70_FMwebp_.jpg</td><td>https://www.amazon.in/WIDEWINGS-Electric-Handheld-Frother-Blender/dp/B0BPCJM7TB/ref=sr_1_205?qid=1672923601&s=kitchen&sr=1-205</td></tr><tr><td>B0BPBXNQQT</td><td>Room Heater Warmer Wall-Outlet 400 Watts Electric Handy Room Heater (Room Heaters Home for Bedroom, Reading Books, Work, bathrooms, Rooms, Offices, Home Offices,2022</td><td>Home&Kitchen|Heating,Cooling&AirQuality|RoomHeaters|ElectricHeaters</td><td>₹799</td><td>₹1,989</td><td>60%</td><td>4.3</td><td>70</td><td>Fast Heating :- Ceramic heating element creates energy efficient warmth quickly in 3 seconds.|Overheat protection : PTC ceramic element is self-regulating With the design of over-heat protection for thermal control|Adjustable Temperature & Silent :- Adjustable thermostat control monitors the temperature around you for optimal heating|Energy efficient and Portable :- Ceramic heating element for energy-efficient operation|Compact Design :- It's compact enough to take anywhere,Great for the camper or give it to the kids for their college dorm rooms.</td><td>AH7ZFZAWQV5VTWQHLXZYDGFDNJGQ,AHFM667GXYFTR3AUJA3PYCTQNTRQ,AHMVXMVFXD52BW23VR6LGK6ZVYLQ,AFY4TSX2F5VE4VZOVGHWODY6YMXQ,AGE4VV5XHVOEH4P5GC4F6QP5WRQQ,AE65JZULZYSAXTA2EGDZEM6PBYPA,AHNDS2S3ENCHSKCCU22SVWH5UZKA,AG5BPTCQ4ZU6JWWKH2KBGNLSLKCA</td><td>Rajiv Ranjan Singh,Eswar Babu,Gaurav Choudhary,Vinay kumar,Placeholder,imti,Satyanarain,Sanjay</td><td>RZO6XGE3P1DX,R3RCHNNZ1GVHBL,R32VH8C2WKSPBO,RHPUY1L6EN7BY,RIVPXD585WKHV,RJBJT7A32QWPV,R1E92T2MFYX7MK,R2K5O9IMJOXBEX</td><td>Good for small rooms,Better,Good quality,Nice product,Good product,Potable room heater,Room heater is useful,Good Heater</td><td>If u have to heat a small room you can definitely use this heater but people need to be near it to feel the heat.,Product is nice and better only when you are close to it. It can't cool the small room atle,It is value for money and worth buying product, best build quality in this price range,The nice product and light weight very easy usable product,Good product value for money,I received the room heater it's really very good 😁,This is Very good product,It’s good for smaller space.</td><td>https://m.media-amazon.com/images/W/WEBP_402378-T1/images/I/51ey0zzictL._SX300_SY300_QL70_FMwebp_.jpg</td><td>https://www.amazon.in/Wall-Outlet-Electric-Heaters-Bedroom-bathrooms/dp/B0BPBXNQQT/ref=sr_1_78?qid=1672923593&s=kitchen&sr=1-78</td></tr><tr><td>B0BPBG712X</td><td>Portable, Handy Compact Plug-in Portable Digital Electric Heater Fan Wall-Outlet Handy Air Warmer Blower Adjustable Timer Digital Display Heater for Home/Office/Camper (Black, 400 Watts)</td><td>Home&Kitchen|Heating,Cooling&AirQuality|RoomHeaters|FanHeaters</td><td>₹799</td><td>₹1,199</td><td>33%</td><td>4.4</td><td>17</td><td>Fast Heating :- Ceramic heating element creates energy efficient warmth quickly in 3 seconds.|Overheat protection : PTC ceramic element is self-regulating With the design of over-heat protection for thermal control|Adjustable Temperature & Silent :- Adjustable thermostat control monitors the temperature around you for optimal heating|Energy efficient and Portable :- Ceramic heating element for energy-efficient operation|Compact Design :- It's compact enough to take anywhere,Great for the camper or give it to the kids for their college dorm rooms.</td><td>AEFNT7TWJYDOX5RL3Y5YW77IZT5A,AETQ6J6XGXAXMOQCY3VCPLOJ6WFQ,AFHA226SDRCFNI2A6W5IBCVKEOCQ,AH7CI34EC4Z364IYMFO6LBNA67VQ,AGN4KBBUYAKJFPC3QCNLXJ24Z4YA,AFKFBTTWJBF4ZULRAQ5HQ6JUUMUA,AGECQN4Y2J63ODHOTCU6EK3MX5ZA,AEEGGJUP3XKWMPAPJDTY5TEICVNQ</td><td>Taniya singh,Abhidha Goswami,Surinder Kumar Soni,Imran shabir,Nidhi mishra,kapil dev,Abhilasha,Tamanna</td><td>R32YNMGVH3EGMZ,R1O2HX15IC0KCM,RQPKLLF0EQESW,R6CXBNPC3JUIO,R2PAIJQ4JQT4EE,R6IWEVMWJ6MD,R1E1LTXU1CPT48,R2648DSDGDSC63</td><td>Nice product,Best product for use in winter season,Amazing product,This devie is portable that majes its design fantastic and easy to use!,Handy heater,Awesome product,Fantastic one,Portable and easy to use.</td><td>I m using  this for my personal  room,Nice product for winter season,Good product and price,This device is febulous.,The handy heater is good for student.I brought specially for study I am happy,I am using for my room and giving proper heat but takes time to increase overall room temperature.  value for money portable heater can be used anywhere.,It is handy easy to carry good heater no extra wire directly fit into the socket.,I loved this product. It's smaller in size, portable, easy to use and most importantly doesn't consume much power.</td><td>https://m.media-amazon.com/images/W/WEBP_402378-T1/images/I/51ey0zzictL._SX300_SY300_QL70_FMwebp_.jpg</td><td>https://www.amazon.in/Portable-Compact-Electric-Wall-Outlet-Adjustable/dp/B0BPBG712X/ref=sr_1_470?qid=1672923615&s=kitchen&sr=1-470</td></tr><tr><td>B0BP89YBC1</td><td>Campfire Spring Chef Prolix Instant Portable Water Heater Geyser 1Ltr. for Use Home Stainless Steel Baking Rack | Restaurant | Office | Labs | Clinics | Saloon | with Installation Kit (With MCB)</td><td>Home&Kitchen|Heating,Cooling&AirQuality|WaterHeaters&Geysers|InstantWaterHeaters</td><td>₹1,499</td><td>₹3,500</td><td>57%</td><td>4.7</td><td>2,591</td><td>Prolix Auto cut off feature: It is available when the user forget to switch off it will going to automatically cut it off. (Manual reset models are only going to Standby Mode, Other Auto reset models are going to restart automatically after 10 minutes If this is not noticed, the same process keeps repeating it will increase your electricity and geyser life time also decrease.|Prolix Specifications: ABS (Acrylonitrile butadiene styrene) Shock proof and Heat resistant, Copper Heating Element Tubular type(3Kw.) ISI marked, Indicators Neon Green and Red light, Thermostat Copper ISI marked, 1.5 square mm 3Core cable ISI marked 1.15Mtrs, 16Amp. Plug Pin-top ISI marked, coming with Guaranty card and user manual, with 2 No s Connecting nipple, 1 No Royal union, 1.5 m connecting hose and 2 No s Screw with wall sleeve and excellent packing|Prolix Instant water heater: Now comes with unbreakable First Class ABS (Acrylonitrile butadiene styrene) body and comes with water inlet and outlet Thread type. It is more convenient for usage and it will avoid water leakages. Our geyser is portable, instant, and compact, less power consumption Up to 20% saves electricity compare to other storage geyser|Compact size: It provides Non-stop (247) hot water from 10 seconds onwards, just put it in the water tap and get hot water continuously it does not required additional plumbing. Ideal to use in Houses, Beauty salons, Hotels, Schools, bathroom, Kitchen, Wash area, Hospitals, Mansion and factories where there is an instant need of Warm/Hot water supply. (Strictly we are not recommended for drinking purpose)|Warranty: Manufacturer 1 Year Warranty</td><td>AEVX4JV3C4QR3Y3V3RJXQ2WZAR4Q,AHR5JZBK66QYZSEJ37GM3K2DXDIQ,AEAOSBMIGWQY5HFXDMBRQUE3L52A,AGUEJAHXS2LL652SUQTCM52FOZHQ,AGRMA5YXQJV53ZJHIRAIZTBPJ6DQ,AEVLNW7OEHU23QZWBPF2ZLYHTBHQ,AGD6G2GDZX44OOJJCN4TLROEP7OA</td><td>Srujan kumar,Sadhu s.,parveen sharma,Patel kaushikbhai. S,Vinoth,Ankita Gupta,Jignesh lathiya</td><td>RBPM3YRVWMMMK,RVY7BZCJPHJZU,R3KXHKIGWPT7IS,R1K28XXUFE3XNT,R23K3XEJA3V8XG,RTILNKKZAV4WT,R2Z92RDSJM71FU</td><td>Felt very useful 👌 but cable is short,Good in portable series of Geyser,Awesome product,Good quality,Product okay but no bill receive,Wrong Reviews uploaded for this product.,Good Product</td><td>I like instant heating, I didn't get warranty card, I am using the product in bathroom for bathing purpose. Null from where the hot water comes should be lengthened,quality is good,I like this small or instant geyser. Awesome product.,Best sellers,Product ok no bill receive no extra screw not receive light red and green same time working suddenly heat working okay very well,The product is Portable Instant Heater and all of the 25000+ reviews are of Magnetic Spoon. Amazon team should check for this issue.,Best one usefulin weather season value of money 💰 💰 💰 💰 💰 💰 💰 💰 💰 💰 💰</td><td>https://m.media-amazon.com/images/W/WEBP_402378-T1/images/I/41hoHTbN5rL._SX300_SY300_QL70_FMwebp_.jpg</td><td>https://www.amazon.in/Spring-Chef-Stainless-Restaurant-Installation/dp/B0BP89YBC1/ref=sr_1_419?qid=1672923613&s=kitchen&sr=1-419</td></tr><tr><td>B0BP7XLX48</td><td>Syncwire LTG to USB Cable for Fast Charging Compatible with Phone 5/ 5C/ 5S/ 6/ 6S/ 7/8/ X/XR/XS Max/ 11/12/ 13 Series and Pad Air/Mini, Pod & Other Devices (1.1 Meter, White)</td><td>Computers&Accessories|Accessories&Peripherals|Cables&Accessories|Cables|USBCables</td><td>₹399</td><td>₹1,999</td><td>80%</td><td>5.0</td><td>5</td><td>This sturdy and durable cable made of tpe and premium copper protects it from bending and coiling.|With data transfer speed up to 480 Mbps, it is built with safety protections with four-core copper wires promoting maximum signal while working.|It is tested bending ranges from 18k to 20k bends making it more durable, its 3d aluminium connector and laser welding technology make it hard to break and fits well giving a good connectivity-Phone charger cable.|Use it anywhere in the office or home or travelling, its easily foldable n fitted in a pocket to carry.|This cable comes with a charging & Data sync function.|This cable is unique in terms of design and multi-use and is positioned to provide the best comfort and performance while using.|Fast Charge&Data Sync: It can charge and sync simultaneously at a rapid speed, Compatible with any charging adaptor, multi-port charging station or power bank.</td><td>AF7EOXYL5K36BDP6PXF6K2TL5TPA,AEN7NV2P5WNHM7EXCWWWES43N3PQ,AFFCNMMFC5VPKDGX5FGNODAS6Z6Q,AFQJM63Q7OMAP62BP3TB4YQEZAXA,AGN5DA5YJ2ZNRT47PCFQTDEDEHNQ</td><td>Amazon Customer,kamal sahota,Pankaj,luvsmplcty,kanta</td><td>R1L2JNO4Y3BHYF,R2346F22YLZ9IG,R3A4GAQTCPE5U7,R2ATN54F3RWETQ,RGINUSORDHO9N</td><td>Good,Superb quality,Good products  nice one,Working well with iphone11.,I always rely on this companys products , so very good. Thank you so much</td><td>Product is good in quality. Working good with my i phone 7.,Good quality and really fast charging and packing is also like original one worth product,Good product and good quality,Working well with iphone11.,</td><td>https://m.media-amazon.com/images/I/317OoQfs1gL._SX300_SY300_QL70_FMwebp_.jpg</td><td>https://www.amazon.in/Syncwire-Cable-Charging-Compatible-Devices/dp/B0BP7XLX48/ref=sr_1_194?qid=1672909134&s=electronics&sr=1-194</td></tr><tr><td>B0BP18W8TM</td><td>\"Fire-Boltt Gladiator 1.96\"\" Biggest Display Smart Watch with Bluetooth Calling</td><td> Voice Assistant &123 Sports Modes</td><td> 8 Unique UI Interactions</td><td> SpO2</td><td> 24/7 Heart Rate Tracking\"</td><td>Electronics|WearableTechnology|SmartWatches</td><td>₹3,999</td><td>₹9,999</td><td>60%</td><td>4.4</td><td>73</td><td>\"Largest 1.96\"\" Display : View bigger on the screen with the industry’s largest 1.96\"\" display covering every edge possible and providing a crystal-clear resolution of 240*282 pixels|Bluetooth Calling Smartwatch - Enjoy seamless connection and bluetooth calling through Fire-Boltt Gladiator Smart Watch|AI Voice Assistant - Now Wake Up Google/Siri Voice Assistant on your phone through the watch.|123 Sports Modes To Track - Track each activity in more detail and record the statistics everyday and compare the history of 7 days to know your best results.|8 Unique UI Modes - Now Switch your UI viewing method basis your mood and preference. Choose from over 8 different & stylish forms in the watch|In Built Speaker & Microphone - With Latest Technology and Chipset the speaker and microphone are very strong and clear for excellent quality calls</td><td> listen to music on the watch as well.|Multiple Notifications - Make sure you do not miss out important updates</td><td> birthdays or colleagues messages</td><td> enable all the social notifications on the watch to stay connected\"</td></tr></tbody></table></div>"
      ]
     },
     "metadata": {
      "application/vnd.databricks.v1+output": {
       "addedWidgets": {},
       "aggData": [],
       "aggError": "",
       "aggOverflow": false,
       "aggSchema": [],
       "aggSeriesLimitReached": false,
       "aggType": "",
       "arguments": {},
       "columnCustomDisplayInfos": {},
       "data": [
        [
         "B0BR4F878Q",
         "Swiffer Instant Electric Water Heater Faucet Tap Home-Kitchen Instantaneous Water Heater Tank less for Tap, LED Electric Head Water Heaters Tail Gallon Comfort(3000W) ((Pack of 1))",
         "Home&Kitchen|Heating,Cooling&AirQuality|WaterHeaters&Geysers|InstantWaterHeaters",
         "₹1,439",
         "₹1,999",
         "28%",
         "4.8",
         "53,803",
         "✔Quick Electric Hot Water Tap Heating tube: high-purity copper liner heating element Rated voltage: 220V/50HZ Rated Power: 3000W|✔When you receive Swiffer Water tankless instant electric tap water heater, please do not test it in your hands, you need install it well and then test, or it will be dangerous. Please operate it according to the instructions.|✔Support and well-being of dual-use electric faucet, while heated, the water, the lower the temperature, whereas the smaller the flow, the higher the temperature.|✔Power unified are the 3000-watt, 5 seconds fast heat! Your hands won't feel cold when washing dishes or doing the laundry or washing vegetables. Of course, washing face and brushing teeth with warm water every morning are great enjoyments.|✔Your hands won't feel cold when washing dishes or doing the laundry. Of course,washing face and brushing teeth with warm water every morning are great enjoyments.|✔When you receive the water heater, please do not test it in your hands, you need install it well and then test, or it will be dangerous. Please operate it according to the instructions.|100% Brand New And High Quality ! Surface Treatment: Polished, Installation Type: Deck Mounted, Number of Handles: Single Handle|Temperature Mode of Water Heater - The tankless water heater electric heats the flow passing through it to a +60 degrees Celsius temperature. It takes at least 5 seconds to heat the water. The heated water temperature is from 30 to 40 degrees in winter and from 30 to 60 degrees in summer.",
         "AEU7DVFEL43XZ6T4D572W2ZLBRKQ,AGWOH7CFDMUVW52NMZWQBKBNNQOA,AGZN422FGG7JO3T5YY6IVUELOODA",
         "Yogita g.,Amazon Customer,Mimsy",
         "R2WHW4PEF14WOD,R2DCCZWUGI0O0K,R1FA1HH6VL1RAL",
         "Best Product,It’s expansive but it works well upto 800sqft area,Great product",
         "Must buy best Fabulous product I recommend this👍👍,For small place it’s gud,A great product. Works wonders on my vitrified tile floors.",
         "https://m.media-amazon.com/images/I/41+t2HWvwFL._SY300_SX300_.jpg",
         "https://www.amazon.in/Swiffer-Instant-Electric-Home-Kitchen-Instantaneous/dp/B0BR4F878Q/ref=sr_1_150?qid=1672923597&s=kitchen&sr=1-150"
        ],
        [
         "B0BQRJ3C47",
         "REDTECH USB-C to Lightning Cable 3.3FT, [Apple MFi Certified] Lightning to Type C Fast Charging Cord Compatible with iPhone 14/13/13 pro/Max/12/11/X/XS/XR/8, Supports Power Delivery - White",
         "Computers&Accessories|Accessories&Peripherals|Cables&Accessories|Cables|USBCables",
         "₹249",
         "₹999",
         "75%",
         "5.0",
         "0",
         "💎[The Fastest Charge] - This iPhone USB C cable supports PD 3.0 fast charging, up to 20W with USB-C Power Delivery adapters such as 18W, 20W, 29W, 30W, 61W, or 87W. Charge your iPhone from 0% to 50% in just 25 mins, and data transfer speeds up to 480Mbps (1200 songs synced per minute)|💎[Amazing Durability] - With top-rated material and coated with premium TPE, Syncwire Apple USB C cable has exceptional durability to be bent at 90 degrees for 15000+ times and the connector is capable of holding up to 20kg of weight without falling off.|💎[Perfect Compatibility] - Syncwire Type C to lightning cable supports PD Fast Charge 3A (max) for iPhone 14, iPhone 14 Pro, iPhone 14 Pro Max, iPhone 13 mini, iPhone 13 pro max, iPhone 13, iPhone 12 Pro, iPhone 12 Pro max, iPhone 11, iPhone 11 Pro, iPhone 11 Pro Max, iPhone 8, iPhone 8 Plus, iPhone X, iPhone XS, iPhone XR, iPhone XS Max, iPad 8, iPad Pro (10.5-inch), iPad Pro (12.9-inch) 1st generation, iPad Pro (12.9-inch) 2nd generation.|Apple MFi Certified - Lightning cable ensure 100% compatibility with iPhone 14, 13, 13 Pro, 13 Pro Max, 13 Mini, 12, 12 Mini, 12 Pro, 12 Pro Max, SE 2020, iPhone 11, 11 Pro, 11 Pro Max, XR , Xs , Xs Max, X, 8, 8 plus, and iPad|20W Fast Charging Cable: USB C to lightning cable supports safe high-speed charging and fast data transfer,working better and quick charge your devices.(Note:You need to use 20W or above USB-C power adapter to achieve power delivery fast charge.)",
         "AGJC5O5H5BBXWUV7WRIEIOOR3TVQ",
         "Abdul Gafur",
         "RQXD5SAMMPC6L",
         "Awesome Product",
         "Quick delivery.Awesome ProductPacking was goodJust opened the productExcited to you it",
         "https://m.media-amazon.com/images/I/31-q0xhaTAL._SY445_SX342_QL70_FMwebp_.jpg",
         "https://www.amazon.in/REDTECH-Lightning-Certified-Charging-Compatible/dp/B0BQRJ3C47/ref=sr_1_491?qid=1672909149&s=electronics&sr=1-491"
        ],
        [
         "B0BQ3K23Y1",
         "Oratech Coffee Frother electric, milk frother electric, coffee beater, cappuccino maker, Coffee Foamer, Mocktail Mixer, Coffee Foam Maker, coffee whisker electric, Froth Maker, coffee stirrers electric, coffee frothers, Coffee Blender, (6 Month Warranty) (Multicolour)",
         "Home&Kitchen|Kitchen&HomeAppliances|SmallKitchenAppliances|HandBlenders",
         "₹279",
         "₹499",
         "44%",
         "4.8",
         "28",
         "-Make delicious milk foam creamer for your drinks at home without a trip to Starbucks, with your own coffee maker with milk frother. The benefits of having your own electric cold coffee maker are endless, you can make your own best coffee, you know yours tastes the best.|-Proven & Trusted Quality: We use only premium materials. Our milk frother for coffee will not rust or break, ever. Built to last.|-Easy to clean Coffee frother electric: The durable, convenient metal stand gives easy access for foaming milk in seconds. Cleanup for this portable coffee maker is even faster. To clean just put the coffee mixer blender in hot running water and briefly turn it on – instantly clean!|-Electric Coffee Frother Works better than a manual coffee hand blender for making matcha/tea and works far better than fork or Frother for coffee. It works very well to mix nutritious protein powder drinks with no extra container, blender or bottle shaker to wash. Use our mocktail mixer for your whisking and mixing needs.|-Design: our coffee beater comes with an elegant design to fit into any modern kitchen.|It requires two AA Double Batteries to start. Batteries are not INCLUDED.",
         "AGRJZJKWKIE573KM5FWPOH4F7YCA,AEHV4VOLDQX5XYA42OZHALYA3USA,AHOZBF2VFWS62WO3XJT73NHAPQMA,AECYWFZ53SIMOPOKAILDW3VNGRRA,AHGAALVLOMKMYOG4JAJALWFSHLCA,AG6EGJADJ2KCEGGKRPKY2B4MAJMA,AGVVZWV4QHKHNWI7FT3ENKKKBCHA,AHIRZ7N53BSLWFWNEUWYKT6NH6OQ",
         "Amazon Customer,Neha Mehta,Nischal Agarwal,tharangini reddy,Mohammad Salim,Ak,suyesh v.,Kiran ahuja",
         "R3907SDNN9VR5Y,R1NNMXA39722T8,RXQNT49DKJ26S,R22MNVNS4IIKG3,R2CQDP0G85P8C0,RMJZ65KLW040B,R2M6EZZQ3RC4AX,RLWCOK6XMDAGC",
         "Oratech Best Coffee Frother,Great,My review about Oratech Coffee Frother for milk,Good product,Easy to use 👍,Good product,best product,Easy to use",
         "Overall, I love this Oratech Coffee frother and have used it soooo many times since purchasing it. I mostly use it to make whipped coffee but I've also used it for mixing protein powder in milk and frothing milk / creamer for coffee.It is incredible effective for exclusively liquid substances like milk and creamer; I realized this after over-frothing my creamer one morning to the point of pure foam lol. After that I kept it in mind and I know to only do it for a short amount of time. Super easy to use, versatile in what it can be used for (as far as liquids go), and tbh it just looks really cute on the coffee-making section of my counter. The stand is a hugeeee plus, I definitely wouldn't purchase an alternative option without one.It gets the job done for whipped coffee.I also use this product to blend my matcha powder and my turmeric-cinnamon-ginger-coconut milk powder lattes. This frother takes out all the lumps and bumps. Because the resulting blend is smooth, it does not waste the ingredients like stirring with a spoon. So, so great! It has made my favorites even more practical and delicious. I have not found anything about this product that I do not like. I would recommend this product to others and have already done so. Get it! You will be pleased. It is the best Coffee Beater.,I really liked this coffee frother. With its help I am making Cappuccino Latte at home easily. Easy to clean also.,This oratech coffee frother makes coffee game easier and fun.After using it for a week. I’m sharing its pros and consPros:1. Frothing milk for coffee is easier and fun with Oratech Coffee Beater.2. Material quality is good.3. It is portable so you can use it anywhere.4. It is small so you can keep it anywhere.Cons:1. Frothing heavy liquid is tough.My overall feeling about this product is it you are coffee lover and you want to make foamy coffee. It is best for you.,Best quality product. Easy to use and easy to clean. Best coffee frother and easy to coffee making. I loved this product.,This product is easy to use, durable and helps in blending quickly.,Such a good product and enjoying to make coffee and handy too.👍😊😊,Best milk frother for coffeeIt is easy to use.,Every coffee lover must try this electric coffee frother",
         "https://m.media-amazon.com/images/W/WEBP_402378-T2/images/I/41t3WVUlRmL._SX300_SY300_QL70_FMwebp_.jpg",
         "https://www.amazon.in/Oratech-electric-cappuccino-Mocktail-Multicolour/dp/B0BQ3K23Y1/ref=sr_1_216?qid=1672923601&s=kitchen&sr=1-216"
        ],
        [
         "B0BPJBTB3F",
         "Khaitan ORFin Fan heater for Home and kitchen-K0 2215",
         "Home&Kitchen|Heating,Cooling&AirQuality|RoomHeaters|FanHeaters",
         "₹1,299",
         "₹2,495",
         "48%",
         "2",
         "2",
         "Khaitan Orfin Fan heater for Home and kitchen|POWERFUL 2000 WATT|HEATING POSITION 1000 W-2000W|ADJUSTABLE THERMOSTAT TEMP.CONTROL|AUTOMATIC THERMAL CUTOUT FOR SAFETY|FRONT GRILL FOR SAFETY|TURBO FAN",
         "AGHT3K4KSG5MAQUSXRDT5VNB73GA,AE4Q5XQ7SZW35EEUJKQ3IV2IIBQQ",
         "Manidipa Sengupta,Vidisha",
         "R1OO2ED6615EX1,RR4S5JTJMCPA5",
         "Bad quality,Amazing product..",
         "The heating capacity is zero .Moreover i have initiated return request. Noone has come to collect it,Best heater at this price. Quality is very good . Suggest everyone to purchase this heater.......... amazing product to buy...",
         "https://m.media-amazon.com/images/W/WEBP_402378-T1/images/I/31B8Pd1SmLL._SX300_SY300_QL70_FMwebp_.jpg",
         "https://www.amazon.in/Khaitan-ORFin-heater-Home-kitchen-K0/dp/B0BPJBTB3F/ref=sr_1_326?qid=1672923609&s=kitchen&sr=1-326"
        ],
        [
         "B0BPCJM7TB",
         "WIDEWINGS Electric Handheld Milk Wand Mixer Frother for Latte Coffee Hot Milk, Milk Frother for Coffee, Egg Beater, Hand Blender, Coffee Beater with Stand",
         "Home&Kitchen|Kitchen&HomeAppliances|SmallKitchenAppliances|HandBlenders",
         "₹259",
         "₹999",
         "74%",
         "4",
         "43",
         "The battery operated milk frother is easy to control and easy to clean, use with 2 AA batteries. Handheld version makes the frother easy to use by hand. Battery operated milk frother will be very easy to install.|15 seconds is enough to make cup of frothy drink by this milk frother, you can use it as coffee frother, latte frother, foam maker, hot chocolate maker, matcha whisk and other drink blender. Note Not recommended for heavy usage|WIDEWINGS milk frother can be used for cappuccino, caffè latte, hot chocolate, frappè, milkshake and any other drinks. It’s easy to make drinks by this milk frother handheld version.|Not Included for safety , please insert new batteries in opposite direction only|OPERATED BY AA 1.5 V x 2 Batteries (NOT included) & Color send as per availabilty.",
         "AFSZEPUJZUDS3NRVEAO5MHUCAEPA,AHU7IIQ2UVTKGV6WW7KMOU6LTXFA,AF76XTK3GUL5U7RJUHCGDNUF6JPA,AE3AAKFCFKJRKT76B4KMGZGIQNOQ,AEN6TRUOOVQSGJ2OMP76ATCWQRFQ,AF6Q6RSLWNO3YXJ3KHFWGSFMU5UQ,AGCHBCFVIMD5WH4P3TN377OC2LRQ,AFMKVDP5GTOGGOS2QQ6DONW6SJTQ",
         "Priti Sharma,ramya,Aman,ShashankVerma,Ved,Sushree,Sameer,UMANG PATEL",
         "R35KB9ZGJU69DM,R2WAUSC1WTJAI1,R3602Y24JS49JI,R1TBI06WZKGIRG,R20MFO7K9BOV48,R3V4ZRTE667XFW,R1YAJKA5XF1GJY,R24VC2SIKJTTCC",
         "Nice frother,Nice product I like this product,Best,Very low power and quality,Good quality,Waste of money,Awesome,Satisfied purchase",
         "This is my first coffee frother and I just loved it. It made the frothing ready for coffee in just 1 minute.,,Its a very good product. easy handling,,It is easy to use and easy to clean . Also light weight and good speed that is waht much needed for frothing. It is Worth buying.,Worst product,This product is easy to control and easy to clean, you can use it as coffee, foam maker, hot chocolate maker. Best in market.,I ordered this for my own use. It's a really very amazing coffee frother as well as mixer for milk.Very reliable product.",
         "https://m.media-amazon.com/images/I/41sJ4KQa5xL._SX300_SY300_QL70_FMwebp_.jpg",
         "https://www.amazon.in/WIDEWINGS-Electric-Handheld-Frother-Blender/dp/B0BPCJM7TB/ref=sr_1_205?qid=1672923601&s=kitchen&sr=1-205"
        ],
        [
         "B0BPBXNQQT",
         "Room Heater Warmer Wall-Outlet 400 Watts Electric Handy Room Heater (Room Heaters Home for Bedroom, Reading Books, Work, bathrooms, Rooms, Offices, Home Offices,2022",
         "Home&Kitchen|Heating,Cooling&AirQuality|RoomHeaters|ElectricHeaters",
         "₹799",
         "₹1,989",
         "60%",
         "4.3",
         "70",
         "Fast Heating :- Ceramic heating element creates energy efficient warmth quickly in 3 seconds.|Overheat protection : PTC ceramic element is self-regulating With the design of over-heat protection for thermal control|Adjustable Temperature & Silent :- Adjustable thermostat control monitors the temperature around you for optimal heating|Energy efficient and Portable :- Ceramic heating element for energy-efficient operation|Compact Design :- It's compact enough to take anywhere,Great for the camper or give it to the kids for their college dorm rooms.",
         "AH7ZFZAWQV5VTWQHLXZYDGFDNJGQ,AHFM667GXYFTR3AUJA3PYCTQNTRQ,AHMVXMVFXD52BW23VR6LGK6ZVYLQ,AFY4TSX2F5VE4VZOVGHWODY6YMXQ,AGE4VV5XHVOEH4P5GC4F6QP5WRQQ,AE65JZULZYSAXTA2EGDZEM6PBYPA,AHNDS2S3ENCHSKCCU22SVWH5UZKA,AG5BPTCQ4ZU6JWWKH2KBGNLSLKCA",
         "Rajiv Ranjan Singh,Eswar Babu,Gaurav Choudhary,Vinay kumar,Placeholder,imti,Satyanarain,Sanjay",
         "RZO6XGE3P1DX,R3RCHNNZ1GVHBL,R32VH8C2WKSPBO,RHPUY1L6EN7BY,RIVPXD585WKHV,RJBJT7A32QWPV,R1E92T2MFYX7MK,R2K5O9IMJOXBEX",
         "Good for small rooms,Better,Good quality,Nice product,Good product,Potable room heater,Room heater is useful,Good Heater",
         "If u have to heat a small room you can definitely use this heater but people need to be near it to feel the heat.,Product is nice and better only when you are close to it. It can't cool the small room atle,It is value for money and worth buying product, best build quality in this price range,The nice product and light weight very easy usable product,Good product value for money,I received the room heater it's really very good 😁,This is Very good product,It’s good for smaller space.",
         "https://m.media-amazon.com/images/W/WEBP_402378-T1/images/I/51ey0zzictL._SX300_SY300_QL70_FMwebp_.jpg",
         "https://www.amazon.in/Wall-Outlet-Electric-Heaters-Bedroom-bathrooms/dp/B0BPBXNQQT/ref=sr_1_78?qid=1672923593&s=kitchen&sr=1-78"
        ],
        [
         "B0BPBG712X",
         "Portable, Handy Compact Plug-in Portable Digital Electric Heater Fan Wall-Outlet Handy Air Warmer Blower Adjustable Timer Digital Display Heater for Home/Office/Camper (Black, 400 Watts)",
         "Home&Kitchen|Heating,Cooling&AirQuality|RoomHeaters|FanHeaters",
         "₹799",
         "₹1,199",
         "33%",
         "4.4",
         "17",
         "Fast Heating :- Ceramic heating element creates energy efficient warmth quickly in 3 seconds.|Overheat protection : PTC ceramic element is self-regulating With the design of over-heat protection for thermal control|Adjustable Temperature & Silent :- Adjustable thermostat control monitors the temperature around you for optimal heating|Energy efficient and Portable :- Ceramic heating element for energy-efficient operation|Compact Design :- It's compact enough to take anywhere,Great for the camper or give it to the kids for their college dorm rooms.",
         "AEFNT7TWJYDOX5RL3Y5YW77IZT5A,AETQ6J6XGXAXMOQCY3VCPLOJ6WFQ,AFHA226SDRCFNI2A6W5IBCVKEOCQ,AH7CI34EC4Z364IYMFO6LBNA67VQ,AGN4KBBUYAKJFPC3QCNLXJ24Z4YA,AFKFBTTWJBF4ZULRAQ5HQ6JUUMUA,AGECQN4Y2J63ODHOTCU6EK3MX5ZA,AEEGGJUP3XKWMPAPJDTY5TEICVNQ",
         "Taniya singh,Abhidha Goswami,Surinder Kumar Soni,Imran shabir,Nidhi mishra,kapil dev,Abhilasha,Tamanna",
         "R32YNMGVH3EGMZ,R1O2HX15IC0KCM,RQPKLLF0EQESW,R6CXBNPC3JUIO,R2PAIJQ4JQT4EE,R6IWEVMWJ6MD,R1E1LTXU1CPT48,R2648DSDGDSC63",
         "Nice product,Best product for use in winter season,Amazing product,This devie is portable that majes its design fantastic and easy to use!,Handy heater,Awesome product,Fantastic one,Portable and easy to use.",
         "I m using  this for my personal  room,Nice product for winter season,Good product and price,This device is febulous.,The handy heater is good for student.I brought specially for study I am happy,I am using for my room and giving proper heat but takes time to increase overall room temperature.  value for money portable heater can be used anywhere.,It is handy easy to carry good heater no extra wire directly fit into the socket.,I loved this product. It's smaller in size, portable, easy to use and most importantly doesn't consume much power.",
         "https://m.media-amazon.com/images/W/WEBP_402378-T1/images/I/51ey0zzictL._SX300_SY300_QL70_FMwebp_.jpg",
         "https://www.amazon.in/Portable-Compact-Electric-Wall-Outlet-Adjustable/dp/B0BPBG712X/ref=sr_1_470?qid=1672923615&s=kitchen&sr=1-470"
        ],
        [
         "B0BP89YBC1",
         "Campfire Spring Chef Prolix Instant Portable Water Heater Geyser 1Ltr. for Use Home Stainless Steel Baking Rack | Restaurant | Office | Labs | Clinics | Saloon | with Installation Kit (With MCB)",
         "Home&Kitchen|Heating,Cooling&AirQuality|WaterHeaters&Geysers|InstantWaterHeaters",
         "₹1,499",
         "₹3,500",
         "57%",
         "4.7",
         "2,591",
         "Prolix Auto cut off feature: It is available when the user forget to switch off it will going to automatically cut it off. (Manual reset models are only going to Standby Mode, Other Auto reset models are going to restart automatically after 10 minutes If this is not noticed, the same process keeps repeating it will increase your electricity and geyser life time also decrease.|Prolix Specifications: ABS (Acrylonitrile butadiene styrene) Shock proof and Heat resistant, Copper Heating Element Tubular type(3Kw.) ISI marked, Indicators Neon Green and Red light, Thermostat Copper ISI marked, 1.5 square mm 3Core cable ISI marked 1.15Mtrs, 16Amp. Plug Pin-top ISI marked, coming with Guaranty card and user manual, with 2 No s Connecting nipple, 1 No Royal union, 1.5 m connecting hose and 2 No s Screw with wall sleeve and excellent packing|Prolix Instant water heater: Now comes with unbreakable First Class ABS (Acrylonitrile butadiene styrene) body and comes with water inlet and outlet Thread type. It is more convenient for usage and it will avoid water leakages. Our geyser is portable, instant, and compact, less power consumption Up to 20% saves electricity compare to other storage geyser|Compact size: It provides Non-stop (247) hot water from 10 seconds onwards, just put it in the water tap and get hot water continuously it does not required additional plumbing. Ideal to use in Houses, Beauty salons, Hotels, Schools, bathroom, Kitchen, Wash area, Hospitals, Mansion and factories where there is an instant need of Warm/Hot water supply. (Strictly we are not recommended for drinking purpose)|Warranty: Manufacturer 1 Year Warranty",
         "AEVX4JV3C4QR3Y3V3RJXQ2WZAR4Q,AHR5JZBK66QYZSEJ37GM3K2DXDIQ,AEAOSBMIGWQY5HFXDMBRQUE3L52A,AGUEJAHXS2LL652SUQTCM52FOZHQ,AGRMA5YXQJV53ZJHIRAIZTBPJ6DQ,AEVLNW7OEHU23QZWBPF2ZLYHTBHQ,AGD6G2GDZX44OOJJCN4TLROEP7OA",
         "Srujan kumar,Sadhu s.,parveen sharma,Patel kaushikbhai. S,Vinoth,Ankita Gupta,Jignesh lathiya",
         "RBPM3YRVWMMMK,RVY7BZCJPHJZU,R3KXHKIGWPT7IS,R1K28XXUFE3XNT,R23K3XEJA3V8XG,RTILNKKZAV4WT,R2Z92RDSJM71FU",
         "Felt very useful 👌 but cable is short,Good in portable series of Geyser,Awesome product,Good quality,Product okay but no bill receive,Wrong Reviews uploaded for this product.,Good Product",
         "I like instant heating, I didn't get warranty card, I am using the product in bathroom for bathing purpose. Null from where the hot water comes should be lengthened,quality is good,I like this small or instant geyser. Awesome product.,Best sellers,Product ok no bill receive no extra screw not receive light red and green same time working suddenly heat working okay very well,The product is Portable Instant Heater and all of the 25000+ reviews are of Magnetic Spoon. Amazon team should check for this issue.,Best one usefulin weather season value of money 💰 💰 💰 💰 💰 💰 💰 💰 💰 💰 💰",
         "https://m.media-amazon.com/images/W/WEBP_402378-T1/images/I/41hoHTbN5rL._SX300_SY300_QL70_FMwebp_.jpg",
         "https://www.amazon.in/Spring-Chef-Stainless-Restaurant-Installation/dp/B0BP89YBC1/ref=sr_1_419?qid=1672923613&s=kitchen&sr=1-419"
        ],
        [
         "B0BP7XLX48",
         "Syncwire LTG to USB Cable for Fast Charging Compatible with Phone 5/ 5C/ 5S/ 6/ 6S/ 7/8/ X/XR/XS Max/ 11/12/ 13 Series and Pad Air/Mini, Pod & Other Devices (1.1 Meter, White)",
         "Computers&Accessories|Accessories&Peripherals|Cables&Accessories|Cables|USBCables",
         "₹399",
         "₹1,999",
         "80%",
         "5.0",
         "5",
         "This sturdy and durable cable made of tpe and premium copper protects it from bending and coiling.|With data transfer speed up to 480 Mbps, it is built with safety protections with four-core copper wires promoting maximum signal while working.|It is tested bending ranges from 18k to 20k bends making it more durable, its 3d aluminium connector and laser welding technology make it hard to break and fits well giving a good connectivity-Phone charger cable.|Use it anywhere in the office or home or travelling, its easily foldable n fitted in a pocket to carry.|This cable comes with a charging & Data sync function.|This cable is unique in terms of design and multi-use and is positioned to provide the best comfort and performance while using.|Fast Charge&Data Sync: It can charge and sync simultaneously at a rapid speed, Compatible with any charging adaptor, multi-port charging station or power bank.",
         "AF7EOXYL5K36BDP6PXF6K2TL5TPA,AEN7NV2P5WNHM7EXCWWWES43N3PQ,AFFCNMMFC5VPKDGX5FGNODAS6Z6Q,AFQJM63Q7OMAP62BP3TB4YQEZAXA,AGN5DA5YJ2ZNRT47PCFQTDEDEHNQ",
         "Amazon Customer,kamal sahota,Pankaj,luvsmplcty,kanta",
         "R1L2JNO4Y3BHYF,R2346F22YLZ9IG,R3A4GAQTCPE5U7,R2ATN54F3RWETQ,RGINUSORDHO9N",
         "Good,Superb quality,Good products  nice one,Working well with iphone11.,I always rely on this companys products , so very good. Thank you so much",
         "Product is good in quality. Working good with my i phone 7.,Good quality and really fast charging and packing is also like original one worth product,Good product and good quality,Working well with iphone11.,",
         "https://m.media-amazon.com/images/I/317OoQfs1gL._SX300_SY300_QL70_FMwebp_.jpg",
         "https://www.amazon.in/Syncwire-Cable-Charging-Compatible-Devices/dp/B0BP7XLX48/ref=sr_1_194?qid=1672909134&s=electronics&sr=1-194"
        ],
        [
         "B0BP18W8TM",
         "\"Fire-Boltt Gladiator 1.96\"\" Biggest Display Smart Watch with Bluetooth Calling",
         " Voice Assistant &123 Sports Modes",
         " 8 Unique UI Interactions",
         " SpO2",
         " 24/7 Heart Rate Tracking\"",
         "Electronics|WearableTechnology|SmartWatches",
         "₹3,999",
         "₹9,999",
         "60%",
         "4.4",
         "73",
         "\"Largest 1.96\"\" Display : View bigger on the screen with the industry’s largest 1.96\"\" display covering every edge possible and providing a crystal-clear resolution of 240*282 pixels|Bluetooth Calling Smartwatch - Enjoy seamless connection and bluetooth calling through Fire-Boltt Gladiator Smart Watch|AI Voice Assistant - Now Wake Up Google/Siri Voice Assistant on your phone through the watch.|123 Sports Modes To Track - Track each activity in more detail and record the statistics everyday and compare the history of 7 days to know your best results.|8 Unique UI Modes - Now Switch your UI viewing method basis your mood and preference. Choose from over 8 different & stylish forms in the watch|In Built Speaker & Microphone - With Latest Technology and Chipset the speaker and microphone are very strong and clear for excellent quality calls",
         " listen to music on the watch as well.|Multiple Notifications - Make sure you do not miss out important updates",
         " birthdays or colleagues messages",
         " enable all the social notifications on the watch to stay connected\""
        ]
       ],
       "datasetInfos": [],
       "dbfsResultPath": null,
       "isJsonSchema": true,
       "metadata": {},
       "overflow": false,
       "plotOptions": {
        "customPlotOptions": {},
        "displayType": "table",
        "pivotAggregation": null,
        "pivotColumns": null,
        "xColumns": null,
        "yColumns": null
       },
       "removedWidgets": [],
       "schema": [
        {
         "metadata": "{}",
         "name": "product_id",
         "type": "\"string\""
        },
        {
         "metadata": "{}",
         "name": "product_name",
         "type": "\"string\""
        },
        {
         "metadata": "{}",
         "name": "category",
         "type": "\"string\""
        },
        {
         "metadata": "{}",
         "name": "discounted_price",
         "type": "\"string\""
        },
        {
         "metadata": "{}",
         "name": "actual_price",
         "type": "\"string\""
        },
        {
         "metadata": "{}",
         "name": "discount_percentage",
         "type": "\"string\""
        },
        {
         "metadata": "{}",
         "name": "rating",
         "type": "\"string\""
        },
        {
         "metadata": "{}",
         "name": "rating_count",
         "type": "\"string\""
        },
        {
         "metadata": "{}",
         "name": "about_product",
         "type": "\"string\""
        },
        {
         "metadata": "{}",
         "name": "user_id",
         "type": "\"string\""
        },
        {
         "metadata": "{}",
         "name": "user_name",
         "type": "\"string\""
        },
        {
         "metadata": "{}",
         "name": "review_id",
         "type": "\"string\""
        },
        {
         "metadata": "{}",
         "name": "review_title",
         "type": "\"string\""
        },
        {
         "metadata": "{}",
         "name": "review_content",
         "type": "\"string\""
        },
        {
         "metadata": "{}",
         "name": "img_link",
         "type": "\"string\""
        },
        {
         "metadata": "{}",
         "name": "product_link",
         "type": "\"string\""
        }
       ],
       "type": "table"
      }
     },
     "output_type": "display_data"
    }
   ],
   "source": [
    "%sql\n",
    "select * from amazon_sales_table order by product_id desc limit 10"
   ]
  },
  {
   "cell_type": "code",
   "execution_count": 0,
   "metadata": {
    "application/vnd.databricks.v1+cell": {
     "cellMetadata": {},
     "inputWidgets": {},
     "nuid": "28961e78-c4e7-493f-a79c-bb90f437b321",
     "showTitle": false,
     "tableResultSettingsMap": {},
     "title": ""
    }
   },
   "outputs": [],
   "source": []
  }
 ],
 "metadata": {
  "application/vnd.databricks.v1+notebook": {
   "dashboards": [],
   "environmentMetadata": null,
   "language": "python",
   "notebookMetadata": {
    "mostRecentlyExecutedCommandWithImplicitDF": {
     "commandId": 4139278099418704,
     "dataframes": [
      "_sqldf"
     ]
    },
    "pythonIndentUnit": 4
   },
   "notebookName": "Amazon Project",
   "widgets": {}
  }
 },
 "nbformat": 4,
 "nbformat_minor": 0
}
